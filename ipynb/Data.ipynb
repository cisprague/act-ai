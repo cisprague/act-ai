{
 "cells": [
  {
   "cell_type": "code",
   "execution_count": 1,
   "metadata": {},
   "outputs": [
    {
     "name": "stdout",
     "output_type": "stream",
     "text": [
      "Using matplotlib backend: Qt5Agg\n"
     ]
    }
   ],
   "source": [
    "# resources\n",
    "import sys\n",
    "sys.path.append(\"../py\")\n",
    "from generate import *\n",
    "import PyKEP as pk\n",
    "import pygmo as pg\n",
    "import pygmo_plugins_nonfree as pg7\n",
    "import numpy as np\n",
    "import matplotlib.pyplot as plt\n",
    "import cloudpickle as cp\n",
    "%matplotlib\n",
    "#%config InlineBackend.figure_format = 'svg'"
   ]
  },
  {
   "cell_type": "code",
   "execution_count": 2,
   "metadata": {},
   "outputs": [
    {
     "name": "stdout",
     "output_type": "stream",
     "text": [
      "Found nominal trajectory.\n"
     ]
    }
   ],
   "source": [
    "# initialise generator\n",
    "gen = generator(load=True, atol=1e-12, rtol=1e-12)"
   ]
  },
  {
   "cell_type": "code",
   "execution_count": null,
   "metadata": {
    "collapsed": true
   },
   "outputs": [],
   "source": [
    "gen.udpnom.plot_traj(gen.znom)\n",
    "gen.udpnom.plot_control(gen.znom)"
   ]
  },
  {
   "cell_type": "markdown",
   "metadata": {},
   "source": [
    "If solution converges, increase perturbation size $$h = h + \\frac{H-h}{2}$$\n",
    "\n",
    "Else, decrease perturbation size $$h = \\frac{h}{2}$$"
   ]
  },
  {
   "cell_type": "code",
   "execution_count": null,
   "metadata": {
    "collapsed": true
   },
   "outputs": [],
   "source": [
    "# nominal states\n",
    "s0 = gen.get_nominal_states(10)[0]\n",
    "\n",
    "# quadratic random walk\n",
    "trajs = gen.random_walk(s0, npts=100, stepnom=0.2)"
   ]
  },
  {
   "cell_type": "code",
   "execution_count": 4,
   "metadata": {
    "collapsed": true
   },
   "outputs": [],
   "source": [
    "import matplotlib.pyplot as plt\n",
    "fig = plt.figure()\n",
    "axis = fig.gca(projection='3d')\n",
    "lim = 1.5\n",
    "\n",
    "for prob in trajs:\n",
    "    if prob is not None and prob.leg.alpha == 1:\n",
    "        prob.leg.plot_traj(axis, mark=\"k-\")\n",
    "gen.udpnom.plot_traj(gen.znom, mark=\"k-\", axes=axis)\n",
    "\n",
    "lim = 1.5\n",
    "\n",
    "\"\"\"axis.set_xlim3d(-lim, lim)\n",
    "axis.set_ylim3d(-lim, lim)\n",
    "axis.set_zlim3d(-lim, lim)\"\"\"\n",
    "\n",
    "\n",
    "axis.set_xlabel('x [AU]')\n",
    "axis.set_ylabel('y [AU]')\n",
    "axis.set_zlabel('z [AU]')\n",
    "\n",
    "plt.show()"
   ]
  },
  {
   "cell_type": "code",
   "execution_count": null,
   "metadata": {
    "collapsed": true
   },
   "outputs": [],
   "source": [
    "fig, ax = plt.subplots()\n",
    "c = 0\n",
    "for prob in trajs:\n",
    "    if prob.leg.alpha == 1:\n",
    "        c += 1\n",
    "        prob.plot_control(prob.z, axes=ax)\n",
    "    \n",
    "plt.show()\n",
    "print(c)"
   ]
  },
  {
   "cell_type": "code",
   "execution_count": 3,
   "metadata": {
    "collapsed": true
   },
   "outputs": [],
   "source": [
    "trajs = cp.load(open(\"../p/random_moc_walks.p\", \"rb\"))"
   ]
  },
  {
   "cell_type": "code",
   "execution_count": null,
   "metadata": {
    "collapsed": true
   },
   "outputs": [],
   "source": [
    "ind = np.random.randint(0, len(trajs)-500)\n",
    "difinds = [148, 84, 98]\n",
    "traj = trajs[98]\n",
    "traj.pretty(traj.z)"
   ]
  },
  {
   "cell_type": "code",
   "execution_count": null,
   "metadata": {
    "collapsed": true
   },
   "outputs": [],
   "source": [
    "traj = gen.homotopy(trajs[98])"
   ]
  },
  {
   "cell_type": "code",
   "execution_count": null,
   "metadata": {
    "collapsed": true
   },
   "outputs": [],
   "source": [
    "traj.plot_traj(traj.z)\n",
    "traj.plot_control(traj.z)"
   ]
  },
  {
   "cell_type": "code",
   "execution_count": null,
   "metadata": {
    "collapsed": true
   },
   "outputs": [],
   "source": [
    "trajs = [traj for traj in trajs if traj is not None and traj.leg.alpha == 1]"
   ]
  },
  {
   "cell_type": "code",
   "execution_count": null,
   "metadata": {
    "collapsed": true
   },
   "outputs": [],
   "source": [
    "data = [traj.leg.get_states() for traj in trajs]"
   ]
  },
  {
   "cell_type": "code",
   "execution_count": null,
   "metadata": {
    "collapsed": true
   },
   "outputs": [],
   "source": []
  }
 ],
 "metadata": {
  "kernelspec": {
   "display_name": "Python 3",
   "language": "python",
   "name": "python3"
  },
  "language_info": {
   "codemirror_mode": {
    "name": "ipython",
    "version": 3
   },
   "file_extension": ".py",
   "mimetype": "text/x-python",
   "name": "python",
   "nbconvert_exporter": "python",
   "pygments_lexer": "ipython3",
   "version": "3.6.3"
  }
 },
 "nbformat": 4,
 "nbformat_minor": 2
}
