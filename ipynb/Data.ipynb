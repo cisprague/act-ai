{
 "cells": [
  {
   "cell_type": "code",
   "execution_count": 1,
   "metadata": {},
   "outputs": [
    {
     "name": "stdout",
     "output_type": "stream",
     "text": [
      "Using matplotlib backend: Qt5Agg\n"
     ]
    }
   ],
   "source": [
    "# resources\n",
    "import sys\n",
    "sys.path.append(\"../py\")\n",
    "from generate import *\n",
    "import PyKEP as pk\n",
    "import pygmo as pg\n",
    "import pygmo_plugins_nonfree as pg7\n",
    "import numpy as np\n",
    "import matplotlib.pyplot as plt\n",
    "import cloudpickle as cp\n",
    "%matplotlib\n",
    "#%config InlineBackend.figure_format = 'svg'"
   ]
  },
  {
   "cell_type": "code",
   "execution_count": 2,
   "metadata": {},
   "outputs": [
    {
     "name": "stdout",
     "output_type": "stream",
     "text": [
      "Found nominal trajectory.\n"
     ]
    }
   ],
   "source": [
    "# initialise generator\n",
    "gen = generator(load=True, atol=1e-12, rtol=1e-12)"
   ]
  },
  {
   "cell_type": "code",
   "execution_count": null,
   "metadata": {},
   "outputs": [],
   "source": [
    "gen.udpnom.plot_traj(gen.znom)\n",
    "gen.udpnom.plot_control(gen.znom)"
   ]
  },
  {
   "cell_type": "markdown",
   "metadata": {},
   "source": [
    "If solution converges, increase perturbation size $$h = h + \\frac{H-h}{2}$$\n",
    "\n",
    "Else, decrease perturbation size $$h = \\frac{h}{2}$$"
   ]
  },
  {
   "cell_type": "code",
   "execution_count": null,
   "metadata": {},
   "outputs": [],
   "source": [
    "# nominal states\n",
    "s0 = gen.get_nominal_states(10)[0]\n",
    "\n",
    "# quadratic random walk\n",
    "trajs = gen.random_walk(s0, npts=100, stepnom=0.2)"
   ]
  },
  {
   "cell_type": "code",
   "execution_count": null,
   "metadata": {},
   "outputs": [],
   "source": [
    "import matplotlib.pyplot as plt\n",
    "fig = plt.figure()\n",
    "axis = fig.gca(projection='3d')\n",
    "lim = 1.5\n",
    "\n",
    "for prob in trajs:\n",
    "    prob.leg.plot_traj(axis, mark=\"k.\")\n",
    "gen.udpnom.plot_traj(gen.znom, mark=\"k-\", axes=axis)\n",
    "\n",
    "lim = 1.5\n",
    "\"\"\"\n",
    "axis.set_xlim3d(-lim, lim)\n",
    "axis.set_ylim3d(-lim, lim)\n",
    "axis.set_zlim3d(-lim, lim)\n",
    "\"\"\"\n",
    "\n",
    "axis.set_xlabel('x [AU]')\n",
    "axis.set_ylabel('y [AU]')\n",
    "axis.set_zlabel('z [AU]')\n",
    "\n",
    "plt.show()"
   ]
  },
  {
   "cell_type": "code",
   "execution_count": 3,
   "metadata": {},
   "outputs": [],
   "source": [
    "trajs = cp.load(open(\"../p/random__quadratic_walks.p\", \"rb\"))"
   ]
  },
  {
   "cell_type": "code",
   "execution_count": 6,
   "metadata": {},
   "outputs": [
    {
     "name": "stdout",
     "output_type": "stream",
     "text": [
      "\n",
      "Point to orbit transfer: \n",
      "\n",
      "From (cartesian): [ -1.37960427e+11   4.54289140e+10  -1.37789815e+09  -1.08443518e+04\n",
      "  -2.84357096e+04   2.93773940e+02   9.95968193e+02]\n",
      "To (osculating elements): [  2.27943822e+11   9.33940989e-02   3.22832074e-02   8.64977200e-01\n",
      "   5.00031283e+00   1.82409819e+00]\n",
      "Time of flight (days): 387.4252409237364 \n",
      "Arrival mean anomaly (rad): 1.8240981898691055 \n",
      "\n",
      "Spacecraft Initial Position (m)  : [-137960426711.1207, 45428913968.840401, -1377898153.8461912]\n",
      "Spacecraft Initial Velocity (m/s): [-10844.351763068431, -28435.709642075679, 293.7739395255557]\n",
      "Spacecraft Initial Mass  (kg)    : 995.96819342016829\n",
      "Spacecraft Final Position (m)  : [17555386955.016197, 232574896564.1832, 4440496071.8829451]\n",
      "Spacecraft Final Velocity (m/s): [-23240.179014505229, 3879.9439380124036, 652.48956159322097]\n",
      "Spacecraft Final Mass  (kg)    : 777.54528567213526\n"
     ]
    }
   ],
   "source": [
    "ind = np.random.randint(0, len(trajs)-500)\n",
    "difinds = [148, 84, 98]\n",
    "traj = trajs[ind]\n",
    "traj.pretty(traj.z)"
   ]
  },
  {
   "cell_type": "code",
   "execution_count": 7,
   "metadata": {},
   "outputs": [
    {
     "name": "stdout",
     "output_type": "stream",
     "text": [
      "Optimising with alpha = 1...\n",
      "Infeasible, decreasing alpha...\n",
      "\n",
      "Optimising with alpha = 0.5...\n",
      "Feasible, increasing alpha...\n",
      "\n",
      "Optimising with alpha = 0.75...\n",
      "Feasible, increasing alpha...\n",
      "\n",
      "Optimising with alpha = 0.875...\n",
      "Feasible, increasing alpha...\n",
      "\n",
      "Optimising with alpha = 0.9375...\n",
      "Feasible, increasing alpha...\n",
      "\n",
      "Optimising with alpha = 0.96875...\n",
      "Feasible, increasing alpha...\n",
      "\n",
      "Optimising with alpha = 0.984375...\n",
      "Feasible, increasing alpha...\n",
      "\n",
      "Optimising with alpha = 0.9921875...\n",
      "Feasible, increasing alpha...\n",
      "\n",
      "Optimising with alpha = 1...\n",
      "Feasible, increasing alpha...\n",
      "\n",
      "Achieved mass-optimal control! Sugoi desu ne!\n",
      "\n"
     ]
    }
   ],
   "source": [
    "bp = gen.homotopy(traj, .1)\n",
    "axis = bp.plot_traj(bp.z)\n",
    "bp.plot_control(bp.z)\n",
    "plt.show()"
   ]
  },
  {
   "cell_type": "code",
   "execution_count": null,
   "metadata": {
    "collapsed": true
   },
   "outputs": [],
   "source": []
  }
 ],
 "metadata": {
  "kernelspec": {
   "display_name": "Python 3",
   "language": "python",
   "name": "python3"
  },
  "language_info": {
   "codemirror_mode": {
    "name": "ipython",
    "version": 3
   },
   "file_extension": ".py",
   "mimetype": "text/x-python",
   "name": "python",
   "nbconvert_exporter": "python",
   "pygments_lexer": "ipython3",
   "version": "3.6.3"
  }
 },
 "nbformat": 4,
 "nbformat_minor": 2
}
