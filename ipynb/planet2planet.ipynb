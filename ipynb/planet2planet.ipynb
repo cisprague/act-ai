{
 "cells": [
  {
   "cell_type": "markdown",
   "metadata": {},
   "source": [
    "# Resources"
   ]
  },
  {
   "cell_type": "code",
   "execution_count": null,
   "metadata": {},
   "outputs": [],
   "source": [
    "# resources\n",
    "import PyKEP as pk\n",
    "import pygmo as pg\n",
    "import pygmo_plugins_nonfree as pg7\n",
    "%matplotlib"
   ]
  },
  {
   "cell_type": "markdown",
   "metadata": {},
   "source": [
    "# Algorithm"
   ]
  },
  {
   "cell_type": "code",
   "execution_count": null,
   "metadata": {
    "collapsed": true
   },
   "outputs": [],
   "source": [
    "# algorithm\n",
    "uda = pg7.snopt7(True, \"/usr/lib/libsnopt7_c.so\")\n",
    "uda.set_integer_option(\"Major iterations limit\", 4000)\n",
    "uda.set_integer_option(\"Iterations limit\", 40000)\n",
    "uda.set_numeric_option(\"Major optimality tolerance\", 1e-2)\n",
    "uda.set_numeric_option(\"Major feasibility tolerance\", 1e-8)\n",
    "algo = pg.algorithm(uda)\n",
    "#uda = pg.mbh(algo, 1)\n",
    "#algo = pg.algorithm(uda)"
   ]
  },
  {
   "cell_type": "markdown",
   "metadata": {},
   "source": [
    "# Direct"
   ]
  },
  {
   "cell_type": "code",
   "execution_count": null,
   "metadata": {},
   "outputs": [],
   "source": [
    "# direct problem\n",
    "udpdir = pk.trajopt.direct.p2pdir(\n",
    "    p0=\"earth\", pf=\"mars\", mass=1000, tmax=0.3, isp=2500, nseg=50,\n",
    "    t0lb=1000, t0ub=2000, Tlb=100, Tub=4000\n",
    ")\n",
    "probdir = pg.problem(udpdir)"
   ]
  },
  {
   "cell_type": "code",
   "execution_count": null,
   "metadata": {
    "collapsed": true
   },
   "outputs": [],
   "source": [
    "# population\n",
    "popdir = pg.population(probdir, 1)"
   ]
  },
  {
   "cell_type": "code",
   "execution_count": null,
   "metadata": {
    "collapsed": true
   },
   "outputs": [],
   "source": [
    "# evolve\n",
    "popdir = algo.evolve(popdir)"
   ]
  },
  {
   "cell_type": "code",
   "execution_count": null,
   "metadata": {
    "collapsed": true
   },
   "outputs": [],
   "source": [
    "# plot trajectory\n",
    "udpdir.plot_traj(popdir.champion_x)"
   ]
  },
  {
   "cell_type": "code",
   "execution_count": null,
   "metadata": {
    "collapsed": true
   },
   "outputs": [],
   "source": [
    "# trajectory data\n",
    "traj = udpdir.get_trajectory(popdir.champion_x)"
   ]
  },
  {
   "cell_type": "code",
   "execution_count": null,
   "metadata": {
    "collapsed": true
   },
   "outputs": [],
   "source": [
    "# plot control\n",
    "plt.figure()\n",
    "plt.plot(traj[:, 0], traj[:, 8], \"k.-\")\n",
    "plt.ylabel(\"Throttle [ND]\")\n",
    "plt.xlabel(\"Time [days]\")\n",
    "plt.show()"
   ]
  },
  {
   "cell_type": "markdown",
   "metadata": {},
   "source": [
    "# Indirect: Bounded Quadratic"
   ]
  },
  {
   "cell_type": "code",
   "execution_count": null,
   "metadata": {
    "collapsed": true
   },
   "outputs": [],
   "source": [
    "# Use previous solution\n",
    "pert = 0.8\n",
    "t0 = popdir.champion_x[0]\n",
    "T = popdir.champion_x[1]\n",
    "l = np.random.randn(7)\n",
    "sol = np.hstack(([t0], [T], l))"
   ]
  },
  {
   "cell_type": "code",
   "execution_count": null,
   "metadata": {
    "collapsed": true
   },
   "outputs": [],
   "source": [
    "# bounded quadratic control problem\n",
    "udpind = p2pind(\n",
    "    p0=\"earth\", pf=\"mars\", mass=1000, tmax=0.05, isp=2500, atol=1e-10, rtol=1e-10,\n",
    "    t0lb=t0-(t0*pert), t0ub=t0+(t0*pert), Tlb=T-(T*pert), Tub=T+(T*pert)\n",
    ")\n",
    "udpind.leg.dynamics.alpha = 0\n",
    "udpind.leg.dynamics.bound = True\n",
    "probind = pg.problem(udpind)"
   ]
  },
  {
   "cell_type": "code",
   "execution_count": null,
   "metadata": {
    "collapsed": true
   },
   "outputs": [],
   "source": [
    "# population\n",
    "popind = pg.population(probind, 0)\n",
    "popind.push_back(sol)"
   ]
  },
  {
   "cell_type": "code",
   "execution_count": null,
   "metadata": {
    "collapsed": true
   },
   "outputs": [],
   "source": [
    "# evolve\n",
    "popind = algo.evolve(popind)"
   ]
  },
  {
   "cell_type": "markdown",
   "metadata": {},
   "source": [
    "# Indirect: Mass Optimal"
   ]
  },
  {
   "cell_type": "code",
   "execution_count": null,
   "metadata": {
    "collapsed": true
   },
   "outputs": [],
   "source": [
    "np.save(\"../npy/indirect_planet2planet\", sol)"
   ]
  },
  {
   "cell_type": "code",
   "execution_count": null,
   "metadata": {
    "collapsed": true
   },
   "outputs": [],
   "source": [
    "sol = np.load(\"../npy/indirect_planet2planet.npy\")"
   ]
  },
  {
   "cell_type": "code",
   "execution_count": null,
   "metadata": {
    "collapsed": true
   },
   "outputs": [],
   "source": [
    "pert = 0.8\n",
    "t0 = sol[0]\n",
    "T = sol[1]"
   ]
  },
  {
   "cell_type": "code",
   "execution_count": null,
   "metadata": {
    "collapsed": true
   },
   "outputs": [],
   "source": [
    "# create bounded control problem\n",
    "udpind = p2pind(\n",
    "    p0=\"earth\", pf=\"mars\", mass=1000, tmax=0.3, isp=2500, atol=1e-12, rtol=1e-12,\n",
    "    t0lb=t0-(t0*pert), t0ub=t0+(t0*pert), Tlb=T-(T*pert), Tub=T+(T*pert)\n",
    ")\n",
    "udpind.leg.dynamics.alpha = 1\n",
    "udpind.leg.dynamics.bound = True\n",
    "probind = pg.problem(udpind)"
   ]
  },
  {
   "cell_type": "code",
   "execution_count": null,
   "metadata": {
    "collapsed": true
   },
   "outputs": [],
   "source": [
    "# use previous solution\n",
    "popind = pg.population(probind, 0)\n",
    "popind.push_back(sol)"
   ]
  },
  {
   "cell_type": "code",
   "execution_count": null,
   "metadata": {
    "collapsed": true
   },
   "outputs": [],
   "source": [
    "# evolve\n",
    "popind = algo.evolve(popind)"
   ]
  },
  {
   "cell_type": "code",
   "execution_count": null,
   "metadata": {},
   "outputs": [],
   "source": [
    "# plot trajectory\n",
    "udpind.plot_traj(popind.champion_x)"
   ]
  },
  {
   "cell_type": "code",
   "execution_count": null,
   "metadata": {
    "collapsed": true
   },
   "outputs": [],
   "source": [
    "# trajectory data\n",
    "traj = udpind.leg.get_trajectory()"
   ]
  },
  {
   "cell_type": "code",
   "execution_count": null,
   "metadata": {},
   "outputs": [],
   "source": [
    "# plot throttle\n",
    "plt.figure()\n",
    "plt.plot(traj[:,0], traj[:,15], \"k-\")\n",
    "plt.xlabel(\"Time [s]\")\n",
    "plt.ylabel(\"Throttle [ND]\")\n",
    "plt.show()"
   ]
  },
  {
   "cell_type": "code",
   "execution_count": null,
   "metadata": {},
   "outputs": [],
   "source": [
    "plt.figure()\n",
    "plt.plot(traj[:,0], traj[:,14], \"k-\")\n",
    "plt.plot(traj[:,0], traj[:,19], \"k--\")\n",
    "plt.xlabel(\"Time [s]\")\n",
    "plt.legend([\"$\\lambda_m$\", \"$\\mathcal{H}$\"])\n",
    "plt.show()"
   ]
  },
  {
   "cell_type": "code",
   "execution_count": null,
   "metadata": {
    "collapsed": true
   },
   "outputs": [],
   "source": [
    "sol = popind.champion_x"
   ]
  }
 ],
 "metadata": {
  "kernelspec": {
   "display_name": "Python 3",
   "language": "python",
   "name": "python3"
  },
  "language_info": {
   "codemirror_mode": {
    "name": "ipython",
    "version": 3
   },
   "file_extension": ".py",
   "mimetype": "text/x-python",
   "name": "python",
   "nbconvert_exporter": "python",
   "pygments_lexer": "ipython3",
   "version": "3.6.2"
  }
 },
 "nbformat": 4,
 "nbformat_minor": 2
}
