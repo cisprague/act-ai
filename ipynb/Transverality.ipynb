{
 "cells": [
  {
   "cell_type": "code",
   "execution_count": 1,
   "metadata": {
    "collapsed": true
   },
   "outputs": [],
   "source": [
    "from sympy import *\n",
    "import numpy as np\n",
    "init_printing()"
   ]
  },
  {
   "cell_type": "code",
   "execution_count": null,
   "metadata": {
    "collapsed": true
   },
   "outputs": [],
   "source": [
    "# Keplerian elements\n",
    "a, e, i, W, w, E = symbols('a e i W w E')\n",
    "\n",
    "# State\n",
    "x, y, z, vx, vy, vz, m = symbols('x y z vx vy vz m')\n",
    "r                      = Matrix([x, y, z])\n",
    "v                      = Matrix([vx, vy, vz])\n",
    "s                      = Matrix([r, v, [m]])\n",
    "rnorm = sqrt(x**2 + y**2 + z**2)\n",
    "\n",
    "# Costate\n",
    "lx, ly, lz, lvx, lvy, lvz, lm = symbols('lx ly lz lvx lvy lvz lm')\n",
    "lr                            = Matrix([lx, ly, lz])\n",
    "lv                            = Matrix([lvx, lvy, lvz])\n",
    "l                             = Matrix([lr, lv, [lm]])\n",
    "\n",
    "# Full State\n",
    "fs = Matrix([s, l])\n",
    "\n",
    "# Parametres\n",
    "mu = symbols(\"mu\")"
   ]
  },
  {
   "cell_type": "code",
   "execution_count": null,
   "metadata": {},
   "outputs": [],
   "source": [
    "# rotation matrix from perifocal to Cartesian frame\n",
    "R = Matrix([\n",
    "    [\n",
    "        cos(W)*cos(w) - sin(W)*sin(w)*cos(i),\n",
    "        -cos(W)*sin(w) - sin(W)*cos(w)*cos(i),\n",
    "        sin(W)*sin(i)\n",
    "    ],\n",
    "    [\n",
    "        sin(W)*cos(w) + cos(W)*sin(w)*cos(i),\n",
    "        -sin(W)*sin(w) + cos(W)*cos(w)*cos(i),\n",
    "        -cos(W)*sin(i)\n",
    "    ],\n",
    "    [\n",
    "        sin(w)*sin(i),\n",
    "        cos(w)*sin(i),\n",
    "        cos(i)\n",
    "    ]\n",
    "])\n",
    "\n",
    "# semiparametre\n",
    "p = a(1-e**2)\n",
    "\n",
    "# true anomoly from eccentric anomoly\n",
    "cosv = (cos(E) - e)/(1 - e*cos(E))\n",
    "sinv = (sqrt(1 - e**2)*sin(E))/(1 - e*cos(E))\n",
    "\n",
    "# position in perifocal frame\n",
    "rpqw = Matrix([\n",
    "    (p*cosv)/(1 + e*cosv), \n",
    "    (p*sinv)/(1 + e*cosv), \n",
    "    0\n",
    "])\n",
    "\n",
    "# velocity in perifocal frame\n",
    "vpqw = Matrix([\n",
    "    -sqrt(mu/p)*sinv, \n",
    "    sqrt(mu/p)*(e + cosv), \n",
    "    0\n",
    "])\n",
    "\n",
    "# convert to Cartesian\n",
    "rijk = R*rpqw\n",
    "vijk = R*vpqw\n",
    "\n",
    "# differentiate with respect to eccentric anomoly\n",
    "drdE = rijk.diff(E)\n",
    "dvdE = vijk.diff(E)\n",
    "\n",
    "# compute transversality condition\n",
    "ceq = lr.dot(drdE) + lv.dot(dvdE)"
   ]
  },
  {
   "cell_type": "code",
   "execution_count": null,
   "metadata": {},
   "outputs": [],
   "source": [
    "ceq = lr.dot(v) - lv.dot((mu/rnorm**3)*r)\n",
    "ceq.simplify()\n",
    "ceq"
   ]
  },
  {
   "cell_type": "code",
   "execution_count": 2,
   "metadata": {},
   "outputs": [
    {
     "data": {
      "text/plain": [
       "32"
      ]
     },
     "execution_count": 2,
     "metadata": {},
     "output_type": "execute_result"
    }
   ],
   "source": [
    "a = np.array([1, 2, 3])\n",
    "b = np.array([4, 5, 6])\n",
    "a.dot(b)"
   ]
  },
  {
   "cell_type": "code",
   "execution_count": 3,
   "metadata": {},
   "outputs": [
    {
     "data": {
      "image/png": "[encoded data removed]",
      "text/latex": [
       "$$0.974631846197$$"
      ],
      "text/plain": [
       "0.974631846197"
      ]
     },
     "execution_count": 3,
     "metadata": {},
     "output_type": "execute_result"
    }
   ],
   "source": [
    "amag = a/np.linalg.norm(a)\n",
    "bmag = b/np.linalg.norm(b)\n",
    "amag.dot(bmag)"
   ]
  },
  {
   "cell_type": "code",
   "execution_count": null,
   "metadata": {
    "collapsed": true
   },
   "outputs": [],
   "source": []
  }
 ],
 "metadata": {
  "kernelspec": {
   "display_name": "Python 3",
   "language": "python",
   "name": "python3"
  },
  "language_info": {
   "codemirror_mode": {
    "name": "ipython",
    "version": 3
   },
   "file_extension": ".py",
   "mimetype": "text/x-python",
   "name": "python",
   "nbconvert_exporter": "python",
   "pygments_lexer": "ipython3",
   "version": "3.6.3"
  }
 },
 "nbformat": 4,
 "nbformat_minor": 2
}
