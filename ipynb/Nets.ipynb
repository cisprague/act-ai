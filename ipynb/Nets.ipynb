{
 "cells": [
  {
   "cell_type": "code",
   "execution_count": 1,
   "metadata": {},
   "outputs": [
    {
     "name": "stdout",
     "output_type": "stream",
     "text": [
      "Using matplotlib backend: Qt5Agg\n"
     ]
    }
   ],
   "source": [
    "import numpy as np\n",
    "import matplotlib.pyplot as plt\n",
    "import matplotlib as mpl\n",
    "import sys\n",
    "import cloudpickle as cp\n",
    "sys.path.append(\"../py/\")\n",
    "from controller import *\n",
    "from mlp import *\n",
    "from data import *\n",
    "import multiprocess as mp\n",
    "import seaborn as sb\n",
    "%matplotlib\n",
    "#%config InlineBackend.figure_format = 'svg'"
   ]
  },
  {
   "cell_type": "markdown",
   "metadata": {},
   "source": [
    "# Data"
   ]
  },
  {
   "cell_type": "code",
   "execution_count": 2,
   "metadata": {
    "collapsed": true
   },
   "outputs": [],
   "source": [
    "# state control data\n",
    "rdata = np.load(\"../npy/moc_data_cart.npy\")"
   ]
  },
  {
   "cell_type": "markdown",
   "metadata": {},
   "source": [
    "# Neural Networks"
   ]
  },
  {
   "cell_type": "code",
   "execution_count": 3,
   "metadata": {},
   "outputs": [
    {
     "ename": "NameError",
     "evalue": "name 'throttle' is not defined",
     "output_type": "error",
     "traceback": [
      "\u001b[0;31m---------------------------------------------------------------------------\u001b[0m",
      "\u001b[0;31mNameError\u001b[0m                                 Traceback (most recent call last)",
      "\u001b[0;32m<ipython-input-3-d45adee13303>\u001b[0m in \u001b[0;36m<module>\u001b[0;34m()\u001b[0m\n\u001b[1;32m      3\u001b[0m \u001b[0;34m\u001b[0m\u001b[0m\n\u001b[1;32m      4\u001b[0m \u001b[0;31m# nets\u001b[0m\u001b[0;34m\u001b[0m\u001b[0;34m\u001b[0m\u001b[0m\n\u001b[0;32m----> 5\u001b[0;31m \u001b[0mnet\u001b[0m \u001b[0;34m=\u001b[0m \u001b[0mthrottle\u001b[0m\u001b[0;34m(\u001b[0m\u001b[0mhshape\u001b[0m\u001b[0;34m,\u001b[0m \u001b[0;36m7\u001b[0m\u001b[0;34m,\u001b[0m \u001b[0mdrop\u001b[0m\u001b[0;34m=\u001b[0m\u001b[0;36m0\u001b[0m\u001b[0;34m)\u001b[0m\u001b[0;34m\u001b[0m\u001b[0m\n\u001b[0m",
      "\u001b[0;31mNameError\u001b[0m: name 'throttle' is not defined"
     ]
    }
   ],
   "source": [
    "# hidden shape\n",
    "hshape = [50, 50, 50]\n",
    "\n",
    "# nets\n",
    "net = throttle(hshape, 7, drop=0)"
   ]
  },
  {
   "cell_type": "code",
   "execution_count": null,
   "metadata": {
    "collapsed": true
   },
   "outputs": [],
   "source": [
    "print(net(d.i), d.o[:, 0])"
   ]
  },
  {
   "cell_type": "code",
   "execution_count": null,
   "metadata": {
    "collapsed": true
   },
   "outputs": [],
   "source": [
    "net.train(d.i, d.o[:, 0], epo=1000, lr=1e-4, batches=1)"
   ]
  },
  {
   "cell_type": "code",
   "execution_count": null,
   "metadata": {
    "collapsed": true
   },
   "outputs": [],
   "source": [
    "for p in net.parameters():\n",
    "    print(p)"
   ]
  },
  {
   "cell_type": "code",
   "execution_count": null,
   "metadata": {
    "collapsed": true
   },
   "outputs": [],
   "source": [
    "net.plot()"
   ]
  },
  {
   "cell_type": "code",
   "execution_count": null,
   "metadata": {
    "collapsed": true
   },
   "outputs": [],
   "source": [
    "y = d.o.numpy()\n",
    "yp = net(d.i).data.numpy()"
   ]
  },
  {
   "cell_type": "code",
   "execution_count": null,
   "metadata": {
    "collapsed": true
   },
   "outputs": [],
   "source": [
    "fig, axs = plt.subplots(1, 4)\n",
    "\n",
    "n = 1000\n",
    "for ax, i in zip(axs, range(4)):\n",
    "    ax.plot(y[:n, i], \".\")\n",
    "    ax.plot(yp[:n, i], \"x\")\n",
    "    \n",
    "plt.show()"
   ]
  },
  {
   "cell_type": "markdown",
   "metadata": {},
   "source": [
    "## Parallel Training"
   ]
  },
  {
   "cell_type": "code",
   "execution_count": null,
   "metadata": {
    "collapsed": true
   },
   "outputs": [],
   "source": [
    "p = mp.Pool(3)\n",
    "\n",
    "nets = p.map(\n",
    "    lambda i: nets[i].train(\n",
    "        d.i, d.o[:, i], epo=10, batches=10, ptst=0.1, lr=1e-2\n",
    "    ),\n",
    "    range(3)\n",
    ")"
   ]
  },
  {
   "cell_type": "code",
   "execution_count": null,
   "metadata": {
    "collapsed": true
   },
   "outputs": [],
   "source": [
    "i = 0\n",
    "nets[i].train(d.i, d.o[:, i], lr=1e-5)"
   ]
  },
  {
   "cell_type": "code",
   "execution_count": null,
   "metadata": {
    "collapsed": true
   },
   "outputs": [],
   "source": [
    "nets[1].plot()"
   ]
  },
  {
   "cell_type": "code",
   "execution_count": null,
   "metadata": {
    "collapsed": true
   },
   "outputs": [],
   "source": [
    "mpl.style.use('default')\n",
    "fig, axs = plt.subplots(2, 3)\n",
    "labels = list()\n",
    "for net, lax, dax, i, unit in zip(nets, axs[0], axs[1], [7, 8, 9], [\"Throttle [ND]\", \"Azimuth [rad]\", \"Polar [rad]\"]):\n",
    "    \n",
    "    # loss\n",
    "    lax = net.plot(lax)\n",
    "    lax.legend([\"Training Loss\", \"Testing Loss\"])\n",
    "    lax.set_title(net.name + \" Network \" + str(net.shape))\n",
    "    lax.set_xlabel(\"Epoch\")\n",
    "    lax.set_ylabel(\"MSE Loss\")\n",
    "    \n",
    "    # physical\n",
    "    n = 400\n",
    "    dax.plot(rdata[:n, i], \".\")\n",
    "    dax.plot(net(rdata[:n, :7]).data.numpy(), \"x\")\n",
    "    dax.set_ylabel(unit)\n",
    "    dax.legend([\"Truth\", \"Predicted\"])\n",
    "    \n",
    "fig.show()"
   ]
  },
  {
   "cell_type": "code",
   "execution_count": null,
   "metadata": {
    "collapsed": true
   },
   "outputs": [],
   "source": [
    "plt.figure()\n",
    "plt.plot(rdata[:200, 7], \"k.-\")\n",
    "plt.plot(nets[0](rdata[:200, :7]).data.numpy(), \"x\")\n",
    "plt.show()"
   ]
  },
  {
   "cell_type": "code",
   "execution_count": null,
   "metadata": {
    "collapsed": true
   },
   "outputs": [],
   "source": [
    "nets[0].ltrn"
   ]
  },
  {
   "cell_type": "code",
   "execution_count": null,
   "metadata": {
    "collapsed": true
   },
   "outputs": [],
   "source": []
  }
 ],
 "metadata": {
  "kernelspec": {
   "display_name": "Python 3",
   "language": "python",
   "name": "python3"
  },
  "language_info": {
   "codemirror_mode": {
    "name": "ipython",
    "version": 3
   },
   "file_extension": ".py",
   "mimetype": "text/x-python",
   "name": "python",
   "nbconvert_exporter": "python",
   "pygments_lexer": "ipython3",
   "version": "3.6.3"
  }
 },
 "nbformat": 4,
 "nbformat_minor": 2
}
