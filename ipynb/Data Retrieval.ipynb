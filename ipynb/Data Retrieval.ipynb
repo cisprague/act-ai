{
 "cells": [
  {
   "cell_type": "code",
   "execution_count": 1,
   "metadata": {},
   "outputs": [
    {
     "name": "stdout",
     "output_type": "stream",
     "text": [
      "Using matplotlib backend: Qt5Agg\n"
     ]
    }
   ],
   "source": [
    "# resources\n",
    "import cloudpickle as cp\n",
    "import numpy as np\n",
    "import matplotlib.pyplot as plt\n",
    "import seaborn as sns\n",
    "import pandas as pd\n",
    "import PyKEP as pk\n",
    "import itertools\n",
    "%matplotlib"
   ]
  },
  {
   "cell_type": "code",
   "execution_count": null,
   "metadata": {
    "collapsed": true
   },
   "outputs": [],
   "source": [
    "# get data\n",
    "data = cp.load(open(\"../p/random_moc_walks.p\", \"rb\"))\n",
    "\n",
    "# number of attempted trajectories\n",
    "na = len(data)\n",
    "# number of infeasible trajectories\n",
    "ni = len([traj for traj in data if traj is None])\n",
    "# number of unconverged trajectories\n",
    "nu = len([traj for traj in data if traj is not None and traj.leg.alpha != 1])\n",
    "# number of succesfull trajectories\n",
    "ns = len([traj for traj in data if traj is not None and traj.leg.alpha == 1])\n",
    "\n",
    "# percent succesfull out of attempted\n",
    "psa = ns/na\n",
    "# percent succesfull out of feasible\n",
    "psf = ns/nu\n",
    "\n",
    "print(psa*100, psf*10)"
   ]
  },
  {
   "cell_type": "code",
   "execution_count": null,
   "metadata": {
    "collapsed": true
   },
   "outputs": [],
   "source": [
    "# get trajectory data\n",
    "data = [traj.leg.get_states() for traj in data if traj is not None and traj.leg.alpha == 1]"
   ]
  },
  {
   "cell_type": "code",
   "execution_count": null,
   "metadata": {
    "collapsed": true
   },
   "outputs": [],
   "source": [
    "data = np.vstack(data)\n",
    "xudata = np.hstack((data[:, 1:8], data[:, 16:20]))\n",
    "np.save(\"../npy/moc_data.npy\", data)\n",
    "np.save(\"../npy/xu_moc_data.npy\", xudata)"
   ]
  },
  {
   "cell_type": "code",
   "execution_count": null,
   "metadata": {
    "collapsed": true
   },
   "outputs": [],
   "source": [
    "xudata = np.load(\"../npy/xu_moc_data.npy\")"
   ]
  },
  {
   "cell_type": "code",
   "execution_count": null,
   "metadata": {
    "collapsed": true
   },
   "outputs": [],
   "source": [
    "pk.ic2par(xudata[0, 0:3], xudata[0, 3:6], pk.MU_SUN)"
   ]
  },
  {
   "cell_type": "code",
   "execution_count": null,
   "metadata": {
    "collapsed": true
   },
   "outputs": [],
   "source": [
    "keps = np.array([pk.ic2par(s[0:3], s[3:6], pk.MU_SUN) for s in xudata])"
   ]
  },
  {
   "cell_type": "code",
   "execution_count": null,
   "metadata": {
    "collapsed": true
   },
   "outputs": [],
   "source": [
    "np.save(\"../npy/kep_moc_data.npy\", keps)"
   ]
  },
  {
   "cell_type": "markdown",
   "metadata": {},
   "source": [
    "# Keplerian Joint Plots"
   ]
  },
  {
   "cell_type": "code",
   "execution_count": null,
   "metadata": {
    "collapsed": true
   },
   "outputs": [],
   "source": [
    "keps = np.load(\"../npy/kep_moc_data.npy\")\n",
    "df = pd.DataFrame(keps, columns=[\"a [AU]\", \"e\", \"i [rad]\", \"$\\Omega$ [rad]\", \"$\\omega$ [rad]\", \"E [rad]\"])"
   ]
  },
  {
   "cell_type": "code",
   "execution_count": null,
   "metadata": {
    "collapsed": true
   },
   "outputs": [],
   "source": [
    "g = sns.pairplot(df, palette=sns.color_palette(\"Blues_d\"))"
   ]
  },
  {
   "cell_type": "code",
   "execution_count": null,
   "metadata": {
    "collapsed": true
   },
   "outputs": [],
   "source": [
    "g.savefig(\"moc_kep_scatter.png\")"
   ]
  },
  {
   "cell_type": "markdown",
   "metadata": {
    "collapsed": true
   },
   "source": [
    "# QC and MOC Data"
   ]
  },
  {
   "cell_type": "code",
   "execution_count": null,
   "metadata": {
    "collapsed": true
   },
   "outputs": [],
   "source": [
    "qcw = cp.load(open(\"../p/random__qc_walks.p\", \"rb\"))\n",
    "mcw = cp.load(open(\"../p/random_moc_walks.p\", \"rb\"))"
   ]
  },
  {
   "cell_type": "code",
   "execution_count": null,
   "metadata": {
    "collapsed": true
   },
   "outputs": [],
   "source": [
    "xu_qc = np.empty(shape=(0, 11))\n",
    "for prob in qcw:\n",
    "    data = prob.leg.get_states()\n",
    "    state = data[:, 1:8]\n",
    "    control = data[:, 16:20]\n",
    "    data = np.hstack((state, control))\n",
    "    xu_qc = np.vstack((xu_qc, data))\n",
    "np.save(\"xu_qc.npy\", xu_qc)\n",
    "\n",
    "xu_moc = np.empty(shape=(0, 11))\n",
    "for prob in mcw:\n",
    "    if prob is not None and prob.leg.alpha == 1:\n",
    "        data = prob.leg.get_states()\n",
    "        state = data[:, 1:8]\n",
    "        control = data[:, 16:20]\n",
    "        data = np.hstack((state, control))\n",
    "        xu_moc = np.vstack((xu_moc, data))\n",
    "np.save(\"xu_moc.npy\", xu_moc)"
   ]
  },
  {
   "cell_type": "code",
   "execution_count": 2,
   "metadata": {},
   "outputs": [],
   "source": [
    "xu_qc = np.load(\"../npy/xu_qc.npy\")\n",
    "xu_moc = np.load(\"../npy/xu_moc.npy\")"
   ]
  },
  {
   "cell_type": "code",
   "execution_count": 3,
   "metadata": {},
   "outputs": [],
   "source": [
    "# turn Cartesian data into spherical\n",
    "datas = list()\n",
    "for data in [xu_qc, xu_moc]:\n",
    "    \n",
    "    # Cartesian direction\n",
    "    ux    = data[:, 8]\n",
    "    uy    = data[:, 9]\n",
    "    uz    = data[:, 10]\n",
    "    \n",
    "    # radius [0, inf]\n",
    "    r = np.sqrt(ux**2 + uy**2 + uz**2)\n",
    "    \n",
    "    # inclination [-pi, pi]\n",
    "    theta = np.arctan2(uy, ux)\n",
    "    \n",
    "    # azimuth [0, pi]\n",
    "    phi = np.arccos(uz/r)\n",
    "    \n",
    "    # number of data points\n",
    "    ndata = len(data)\n",
    "    \n",
    "    # reshape\n",
    "    theta = theta.reshape((ndata, 1))\n",
    "    phi   = phi.reshape((ndata, 1))\n",
    "    \n",
    "    # add the data\n",
    "    datas.append(np.hstack((data[:, 0:8], theta, phi)))\n",
    "    \n",
    "xu_qc, xu_moc = datas"
   ]
  },
  {
   "cell_type": "code",
   "execution_count": null,
   "metadata": {},
   "outputs": [],
   "source": [
    "np.save(\"../npy/xu_qc_sph.npy\", xu_qc)\n",
    "np.save(\"../npy/xu_moc_sph.npy\", xu_moc)"
   ]
  },
  {
   "cell_type": "code",
   "execution_count": 4,
   "metadata": {},
   "outputs": [
    {
     "name": "stdout",
     "output_type": "stream",
     "text": [
      "-3.14138566523 3.14157726342\n",
      "0.000490158274372 3.13979638322\n"
     ]
    }
   ],
   "source": [
    "print(min(xu_qc[:, 8]), max(xu_qc[:, 8]))\n",
    "print(min(xu_qc[:, 9]), max(xu_qc[:, 9]))\n",
    "\n",
    "print(min(xu_qc[:, 8]), max(xu_qc[:, 8]))\n",
    "print(min(xu_qc[:, 9]), max(xu_qc[:, 9]))"
   ]
  },
  {
   "cell_type": "code",
   "execution_count": 5,
   "metadata": {},
   "outputs": [
    {
     "data": {
      "text/plain": [
       "array([[ 1.        , -2.00500559,  1.26627199],\n",
       "       [ 1.        , -1.99243581,  1.26802578],\n",
       "       [ 1.        , -1.917374  ,  1.27961714],\n",
       "       ..., \n",
       "       [ 1.        ,  1.86157372,  1.3612974 ],\n",
       "       [ 1.        ,  1.86753933,  1.35279692],\n",
       "       [ 1.        ,  1.88039425,  1.33462444]])"
      ]
     },
     "execution_count": 5,
     "metadata": {},
     "output_type": "execute_result"
    }
   ],
   "source": [
    "xu_moc[:, 7:]"
   ]
  },
  {
   "cell_type": "code",
   "execution_count": 6,
   "metadata": {},
   "outputs": [
    {
     "data": {
      "text/plain": [
       "array([[ 0.68156988, -2.04851941,  1.1985929 ],\n",
       "       [ 0.68017243, -2.03644936,  1.1996701 ],\n",
       "       [ 0.67120374, -1.96443699,  1.20731823],\n",
       "       ..., \n",
       "       [ 0.45197212,  2.85997413,  1.2510391 ],\n",
       "       [ 0.45302967,  2.97482489,  1.26462476],\n",
       "       [ 0.45342857,  3.02489562,  1.27184467]])"
      ]
     },
     "execution_count": 6,
     "metadata": {},
     "output_type": "execute_result"
    }
   ],
   "source": [
    "xu_qc[:, 7:]"
   ]
  },
  {
   "cell_type": "code",
   "execution_count": null,
   "metadata": {},
   "outputs": [],
   "source": [
    "x = np.cos(xu_moc[:, 8])*np.sin(xu_moc[:, 9])\n",
    "y = np.sin(xu_moc[:, 8])*np.sin(xu_moc[:, 9])\n",
    "z = np.cos(xu_moc[:, 8])\n"
   ]
  },
  {
   "cell_type": "code",
   "execution_count": null,
   "metadata": {},
   "outputs": [],
   "source": [
    "x == xu_moc[:, 7]"
   ]
  },
  {
   "cell_type": "code",
   "execution_count": null,
   "metadata": {},
   "outputs": [],
   "source": [
    "y"
   ]
  },
  {
   "cell_type": "code",
   "execution_count": null,
   "metadata": {
    "collapsed": true
   },
   "outputs": [],
   "source": []
  }
 ],
 "metadata": {
  "kernelspec": {
   "display_name": "Python 3",
   "language": "python",
   "name": "python3"
  },
  "language_info": {
   "codemirror_mode": {
    "name": "ipython",
    "version": 3
   },
   "file_extension": ".py",
   "mimetype": "text/x-python",
   "name": "python",
   "nbconvert_exporter": "python",
   "pygments_lexer": "ipython3",
   "version": "3.6.3"
  }
 },
 "nbformat": 4,
 "nbformat_minor": 2
}
