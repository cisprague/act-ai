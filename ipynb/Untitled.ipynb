{
 "cells": [
  {
   "cell_type": "code",
   "execution_count": 1,
   "metadata": {},
   "outputs": [
    {
     "name": "stdout",
     "output_type": "stream",
     "text": [
      "Using matplotlib backend: Qt5Agg\n"
     ]
    }
   ],
   "source": [
    "import pykep as pk\n",
    "import pygmo as pg\n",
    "import pygmo_plugins_nonfree as pg7\n",
    "import numpy as np\n",
    "%matplotlib"
   ]
  },
  {
   "cell_type": "code",
   "execution_count": 2,
   "metadata": {
    "collapsed": true
   },
   "outputs": [],
   "source": [
    "uda = pg7.snopt7(True, \"/usr/lib/libsnopt7_c.so\")\n",
    "uda.set_integer_option(\"Major iterations limit\", 4000)\n",
    "uda.set_integer_option(\"Iterations limit\", 40000)\n",
    "uda.set_numeric_option(\"Major optimality tolerance\", 1e-2)\n",
    "uda.set_numeric_option(\"Major feasibility tolerance\", 1e-8)\n",
    "algo = pg.algorithm(uda)"
   ]
  },
  {
   "cell_type": "code",
   "execution_count": 64,
   "metadata": {},
   "outputs": [],
   "source": [
    "udp = pk.trajopt.indirect_or2or(alpha=.98, bound=False)\n",
    "pgp = pg.problem(udp)"
   ]
  },
  {
   "cell_type": "code",
   "execution_count": 65,
   "metadata": {},
   "outputs": [
    {
     "name": "stderr",
     "output_type": "stream",
     "text": [
      "/usr/lib/python3.6/site-packages/scipy/integrate/_ode.py:1095: UserWarning: dop853: larger nmax is needed\n",
      "  self.messages.get(istate, unexpected_istate_msg)))\n"
     ]
    }
   ],
   "source": [
    "pop = pg.population(pgp, 1)"
   ]
  },
  {
   "cell_type": "code",
   "execution_count": 66,
   "metadata": {},
   "outputs": [],
   "source": [
    "pop = pg.population(pgp, 0)\n",
    "pop.push_back(z)"
   ]
  },
  {
   "cell_type": "code",
   "execution_count": 67,
   "metadata": {},
   "outputs": [
    {
     "name": "stderr",
     "output_type": "stream",
     "text": [
      "/usr/lib/python3.6/site-packages/scipy/integrate/_ode.py:1095: UserWarning: dop853: larger nmax is needed\n",
      "  self.messages.get(istate, unexpected_istate_msg)))\n"
     ]
    }
   ],
   "source": [
    "pop = algo.evolve(pop)"
   ]
  },
  {
   "cell_type": "code",
   "execution_count": 58,
   "metadata": {
    "collapsed": true
   },
   "outputs": [],
   "source": [
    "z = pop.champion_x"
   ]
  },
  {
   "cell_type": "code",
   "execution_count": 59,
   "metadata": {},
   "outputs": [
    {
     "data": {
      "text/plain": [
       "<matplotlib.axes._subplots.AxesSubplot at 0x7f72fef65240>"
      ]
     },
     "execution_count": 59,
     "metadata": {},
     "output_type": "execute_result"
    }
   ],
   "source": [
    "udp.plot_control(z)"
   ]
  },
  {
   "cell_type": "code",
   "execution_count": 60,
   "metadata": {},
   "outputs": [
    {
     "data": {
      "text/plain": [
       "<matplotlib.axes._subplots.Axes3DSubplot at 0x7f72feb8e710>"
      ]
     },
     "execution_count": 60,
     "metadata": {},
     "output_type": "execute_result"
    }
   ],
   "source": [
    "udp.plot_traj(z, quiver=True)"
   ]
  },
  {
   "cell_type": "code",
   "execution_count": null,
   "metadata": {
    "collapsed": true
   },
   "outputs": [],
   "source": []
  }
 ],
 "metadata": {
  "kernelspec": {
   "display_name": "Python 3",
   "language": "python",
   "name": "python3"
  },
  "language_info": {
   "codemirror_mode": {
    "name": "ipython",
    "version": 3
   },
   "file_extension": ".py",
   "mimetype": "text/x-python",
   "name": "python",
   "nbconvert_exporter": "python",
   "pygments_lexer": "ipython3",
   "version": "3.6.3"
  }
 },
 "nbformat": 4,
 "nbformat_minor": 2
}
