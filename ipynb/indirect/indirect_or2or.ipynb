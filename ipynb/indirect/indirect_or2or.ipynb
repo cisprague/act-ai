{
 "cells": [
  {
   "cell_type": "code",
   "execution_count": null,
   "metadata": {},
   "outputs": [],
   "source": [
    "import PyKEP as pk\n",
    "import pygmo as pg\n",
    "import pygmo_plugins_nonfree as pg7\n",
    "import numpy as np\n",
    "import matplotlib.pyplot as plt\n",
    "%matplotlib"
   ]
  },
  {
   "cell_type": "code",
   "execution_count": null,
   "metadata": {
    "collapsed": true
   },
   "outputs": [],
   "source": [
    "# algorithm\n",
    "uda = pg7.snopt7(True, \"/usr/lib/libsnopt7_c.so\")\n",
    "uda.set_numeric_option(\"Major optimality tolerance\", 1e-6)\n",
    "uda.set_numeric_option(\"Major feasibility tolerance\", 1e-10)\n",
    "uda.set_integer_option(\"Major iterations limit\", 100)\n",
    "algo = pg.algorithm(uda)"
   ]
  },
  {
   "cell_type": "code",
   "execution_count": null,
   "metadata": {},
   "outputs": [],
   "source": [
    "# constants\n",
    "pi = 3.1451592\n",
    "\n",
    "# planets\n",
    "p0 = pk.planet.jpl_lp(\"earth\")\n",
    "pf = pk.planet.jpl_lp(\"mars\")\n",
    "\n",
    "# Keplerian elements\n",
    "el0 = np.array(p0.osculating_elements(pk.epoch(0)))\n",
    "elf = np.array(pf.osculating_elements(pk.epoch(0)))\n",
    "\n",
    "# spacecraft\n",
    "mass   = 1000\n",
    "thrust = 0.3\n",
    "isp    = 2500\n",
    "\n",
    "# tolerances\n",
    "atol = 1e-12\n",
    "rtol = 1e-12\n",
    "\n",
    "# flight duration bounds\n",
    "Tlb = 100\n",
    "Tub = 2000\n",
    "\n",
    "# eccentric anomoly bounds\n",
    "Mlb = -4*pi\n",
    "Mub = 4*pi"
   ]
  },
  {
   "cell_type": "code",
   "execution_count": null,
   "metadata": {},
   "outputs": [],
   "source": [
    "# problem\n",
    "udp = pk.trajopt.indirect_or2or(\n",
    "    el0, elf, mass, thrust, isp, atol, rtol,\n",
    "    Tlb, Tub, Mlb, Mub, Mlb, Mub, alpha=0, bound=False\n",
    ")\n",
    "prob = pg.problem(udp)\n",
    "prob.c_tol = [1e-6]*udp.get_nec()"
   ]
  },
  {
   "cell_type": "code",
   "execution_count": null,
   "metadata": {},
   "outputs": [],
   "source": [
    "# population\n",
    "pop = pg.population(prob, 0)\n",
    "z = np.hstack(([np.random.uniform(Tlb, Tub)], np.random.randn(9)))\n",
    "pop.push_back(z)\n",
    "prob.fitness(pop.champion_x)"
   ]
  },
  {
   "cell_type": "code",
   "execution_count": null,
   "metadata": {},
   "outputs": [],
   "source": [
    "while not prob.feasibility_x(pop.champion_x):\n",
    "    pop = pg.population(prob, 0)\n",
    "    z = np.hstack(([np.random.uniform(Tlb, Tub)], np.random.randn(9)))\n",
    "    pop.push_back(z)\n",
    "    pop = algo.evolve(pop)"
   ]
  },
  {
   "cell_type": "code",
   "execution_count": null,
   "metadata": {},
   "outputs": [],
   "source": [
    "pop.champion_x"
   ]
  },
  {
   "cell_type": "code",
   "execution_count": null,
   "metadata": {},
   "outputs": [],
   "source": [
    "udp.plot_traj(pop.champion_x)\n",
    "udp.plot_control(pop.champion_x)"
   ]
  },
  {
   "cell_type": "code",
   "execution_count": null,
   "metadata": {},
   "outputs": [],
   "source": [
    "np.save(\"../../npy/indirect_or2or1.npy\", pop.champion_x)"
   ]
  },
  {
   "cell_type": "code",
   "execution_count": null,
   "metadata": {},
   "outputs": [],
   "source": [
    "pop = pg.population(prob, 0)\n",
    "pop.push_back(np.load(\"../../npy/indirect_or2or1.npy\"))\n",
    "pop = algo.evolve(pop)"
   ]
  },
  {
   "cell_type": "code",
   "execution_count": null,
   "metadata": {},
   "outputs": [],
   "source": [
    "udp.leg.plot(\"t\", \"lm\", xlabel=True, ylabel=True)"
   ]
  },
  {
   "cell_type": "code",
   "execution_count": null,
   "metadata": {},
   "outputs": [],
   "source": [
    "udp.leg.get_states()[-1, 7]"
   ]
  },
  {
   "cell_type": "code",
   "execution_count": null,
   "metadata": {
    "collapsed": true
   },
   "outputs": [],
   "source": []
  }
 ],
 "metadata": {
  "kernelspec": {
   "display_name": "Python 3",
   "language": "python",
   "name": "python3"
  },
  "language_info": {
   "codemirror_mode": {
    "name": "ipython",
    "version": 3
   },
   "file_extension": ".py",
   "mimetype": "text/x-python",
   "name": "python",
   "nbconvert_exporter": "python",
   "pygments_lexer": "ipython3",
   "version": "3.6.3"
  }
 },
 "nbformat": 4,
 "nbformat_minor": 2
}
