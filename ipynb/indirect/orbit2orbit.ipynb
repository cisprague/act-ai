{
 "cells": [
  {
   "cell_type": "markdown",
   "metadata": {},
   "source": [
    "# Resources"
   ]
  },
  {
   "cell_type": "code",
   "execution_count": 1,
   "metadata": {},
   "outputs": [
    {
     "name": "stdout",
     "output_type": "stream",
     "text": [
      "Using matplotlib backend: Qt5Agg\n"
     ]
    }
   ],
   "source": [
    "import sys\n",
    "sys.path.append(\"../../py\")\n",
    "from indirect.problems import orbit2orbit as o2oind\n",
    "import pygmo as pg\n",
    "import pygmo_plugins_nonfree as pg7\n",
    "import matplotlib.pyplot as plt\n",
    "import numpy as np\n",
    "from numpy.linalg import norm\n",
    "%matplotlib\n",
    "#%matplotlib inline\n",
    "#%config InlineBackend.figure_format = 'svg'"
   ]
  },
  {
   "cell_type": "markdown",
   "metadata": {},
   "source": [
    "# Algorithm"
   ]
  },
  {
   "cell_type": "code",
   "execution_count": null,
   "metadata": {
    "collapsed": true
   },
   "outputs": [],
   "source": [
    "# algorithm\n",
    "uda = pg7.snopt7(True, \"/usr/lib/libsnopt7_c.so\")\n",
    "uda.set_integer_option(\"Major iterations limit\", 4000)\n",
    "uda.set_integer_option(\"Iterations limit\", 40000)\n",
    "uda.set_numeric_option(\"Major optimality tolerance\", 1e-2)\n",
    "uda.set_numeric_option(\"Major feasibility tolerance\", 1e-8)\n",
    "algo = pg.algorithm(uda)\n",
    "#uda = pg.mbh(algo, 1)\n",
    "#algo = pg.algorithm(uda)"
   ]
  },
  {
   "cell_type": "markdown",
   "metadata": {},
   "source": [
    "# Indirect: Mass Optimal Orbit to Orbit\n",
    "$$z = [T, M_0, M_f, \\vec{\\lambda}_0]$$"
   ]
  },
  {
   "cell_type": "code",
   "execution_count": null,
   "metadata": {
    "collapsed": true
   },
   "outputs": [],
   "source": [
    "# guess from planet to planet\n",
    "sol = np.load(\"../../npy/indirect_planet2planet.npy\")\n",
    "# guess\n",
    "pert = 0.5\n",
    "T = sol[1]\n",
    "M = [1, 3]\n",
    "l = sol[2:]\n",
    "guess = np.hstack(([T], M, l))"
   ]
  },
  {
   "cell_type": "code",
   "execution_count": null,
   "metadata": {},
   "outputs": [],
   "source": [
    "# guess from orbit 2 orbit\n",
    "guess = np.load(\"../../npy/indirect_orbit2orbit.npy\")\n",
    "pert = 2\n",
    "T = guess[0]\n",
    "T"
   ]
  },
  {
   "cell_type": "code",
   "execution_count": null,
   "metadata": {},
   "outputs": [],
   "source": [
    "# mass optimal control\n",
    "udpind = o2oind(\n",
    "    mass=1000, tmax=0.3, isp=2500, atol=1e-12, rtol=1e-12,\n",
    "    Tlb=T-(T*pert), Tub=T+(T*pert)\n",
    ")\n",
    "udpind.leg.dynamics.alpha = 1\n",
    "udpind.leg.dynamics.bound = False\n",
    "probind = pg.problem(udpind)\n",
    "udpind.Tlb"
   ]
  },
  {
   "cell_type": "code",
   "execution_count": null,
   "metadata": {},
   "outputs": [],
   "source": [
    "# use previous solution\n",
    "popind = pg.population(probind, 1)\n",
    "#popind.push_back(guess)"
   ]
  },
  {
   "cell_type": "code",
   "execution_count": null,
   "metadata": {},
   "outputs": [],
   "source": [
    "# evolve\n",
    "popind = algo.evolve(popind)"
   ]
  },
  {
   "cell_type": "code",
   "execution_count": null,
   "metadata": {
    "collapsed": true
   },
   "outputs": [],
   "source": [
    "# plot trajectory\n",
    "udpind.plot_traj(popind.champion_x)"
   ]
  },
  {
   "cell_type": "code",
   "execution_count": null,
   "metadata": {},
   "outputs": [],
   "source": [
    "# trajectory data\n",
    "traj = udpind.leg.get_trajectory()"
   ]
  },
  {
   "cell_type": "code",
   "execution_count": null,
   "metadata": {
    "collapsed": true
   },
   "outputs": [],
   "source": [
    "# plot control\n",
    "plt.figure()\n",
    "plt.plot(traj[:,0], traj[:,15], \"k-\")\n",
    "plt.xlabel(\"Time [s]\")\n",
    "plt.ylabel(\"Throttle [ND]\")\n",
    "plt.show()"
   ]
  },
  {
   "cell_type": "code",
   "execution_count": null,
   "metadata": {},
   "outputs": [],
   "source": [
    "sol = popind.champion_x\n",
    "sol"
   ]
  },
  {
   "cell_type": "code",
   "execution_count": null,
   "metadata": {
    "collapsed": true
   },
   "outputs": [],
   "source": [
    "np.save(\"../../npy/indirect_orbit2orbit.npy\", sol)"
   ]
  },
  {
   "cell_type": "markdown",
   "metadata": {},
   "source": [
    "# Homotopy Parametre"
   ]
  },
  {
   "cell_type": "code",
   "execution_count": null,
   "metadata": {
    "collapsed": true
   },
   "outputs": [],
   "source": [
    "ntraj = 200\n",
    "alphas = np.linspace(0,1,ntraj)"
   ]
  },
  {
   "cell_type": "code",
   "execution_count": null,
   "metadata": {},
   "outputs": [],
   "source": [
    "traj = list()\n",
    "\n",
    "for alpha in alphas:\n",
    "    \n",
    "    print(alpha)\n",
    "    \n",
    "    # problem\n",
    "    udpind = o2oind(\n",
    "        mass=1000, tmax=0.3, isp=2500, atol=1e-10, rtol=1e-10,\n",
    "        Tlb=T-(T*pert), Tub=T+(T*pert)\n",
    "    )\n",
    "    udpind.leg.dynamics.alpha = alpha\n",
    "    udpind.leg.dynamics.bound = True\n",
    "    probind = pg.problem(udpind)\n",
    "    \n",
    "    # population\n",
    "    popind = pg.population(probind, 0)\n",
    "    popind.push_back(guess)\n",
    "    \n",
    "    # evolve\n",
    "    popind = algo.evolve(popind)\n",
    "    \n",
    "    # store solution\n",
    "    guess = popind.champion_x\n",
    "    \n",
    "    # set leg\n",
    "    udpind.fitness(guess)\n",
    "    \n",
    "    # store trajectory\n",
    "    traj.append(udpind.leg.get_trajectory())"
   ]
  },
  {
   "cell_type": "code",
   "execution_count": null,
   "metadata": {
    "collapsed": true
   },
   "outputs": [],
   "source": [
    "np.save(\"../../npy/indirect_orbit2orbit_traj.npy\", np.asarray(traj))"
   ]
  },
  {
   "cell_type": "code",
   "execution_count": null,
   "metadata": {
    "collapsed": true
   },
   "outputs": [],
   "source": [
    "trajs = np.load(\"../../npy/indirect_orbit2orbit_traj.npy\")"
   ]
  },
  {
   "cell_type": "code",
   "execution_count": null,
   "metadata": {},
   "outputs": [],
   "source": [
    "plt.figure()\n",
    "for nt in range(ntraj)[1:]:\n",
    "    plt.plot(trajs[nt][:,0], trajs[nt][:,15], \"k-\")\n",
    "plt.xlabel(\"Time [s]\")\n",
    "plt.ylabel(\"Throttle [ND]\")\n",
    "plt.show()"
   ]
  },
  {
   "cell_type": "code",
   "execution_count": null,
   "metadata": {},
   "outputs": [],
   "source": [
    "fig = plt.figure()\n",
    "axis = fig.gca(projection=\"3d\")\n",
    "axis.scatter([0], [0], [0], color=\"y\")\n",
    "for i in range(ntraj)[1:]:\n",
    "    axis.plot(trajs[i][:,0], trajs[i][:,1], trajs[i][:,2], \"k-\")\n",
    "plt.show()"
   ]
  },
  {
   "cell_type": "code",
   "execution_count": null,
   "metadata": {},
   "outputs": [],
   "source": [
    "popind.champion_x"
   ]
  },
  {
   "cell_type": "code",
   "execution_count": 3,
   "metadata": {},
   "outputs": [],
   "source": [
    "import PyKEP as pk\n",
    "leg = pk.sims_flanagan.leg()"
   ]
  },
  {
   "cell_type": "code",
   "execution_count": 4,
   "metadata": {},
   "outputs": [
    {
     "data": {
      "text/plain": [
       "High-fidelity propagation: 0\n",
       "Number of segments: 0\n",
       "\n",
       "Spacecraft mass: 0\n",
       "Spacecraft thrust: 0\n",
       "Spacecraft isp: 0\n",
       "Central body gravitational parameter: 0\n",
       "\n",
       "Departure date: 2000-Jan-01 00:00:00, mjd2000: 0\n",
       "Arrival date: 2000-Jan-01 00:00:00, mjd2000: 0\n",
       "Initial mass: 0 kg\n",
       "Final mass: 0 kg\n",
       "State at departure: 0 0 0 0 0 0 0\n",
       "State at arrival: 0 0 0 0 0 0 0\n",
       "\n",
       "Throttles values: \n",
       "\n",
       "Mismatch at the midpoint: NUMERICAL ERROR!! COULD NOT CALCULATE THE STATE MISMATCH, CHECK YOUR DATA\n",
       "Throttle magnitude constraints (if negative satisfied): []"
      ]
     },
     "execution_count": 4,
     "metadata": {},
     "output_type": "execute_result"
    }
   ],
   "source": [
    "leg"
   ]
  },
  {
   "cell_type": "code",
   "execution_count": null,
   "metadata": {
    "collapsed": true
   },
   "outputs": [],
   "source": []
  }
 ],
 "metadata": {
  "kernelspec": {
   "display_name": "Python 3",
   "language": "python",
   "name": "python3"
  },
  "language_info": {
   "codemirror_mode": {
    "name": "ipython",
    "version": 3
   },
   "file_extension": ".py",
   "mimetype": "text/x-python",
   "name": "python",
   "nbconvert_exporter": "python",
   "pygments_lexer": "ipython3",
   "version": "3.6.2"
  }
 },
 "nbformat": 4,
 "nbformat_minor": 2
}
