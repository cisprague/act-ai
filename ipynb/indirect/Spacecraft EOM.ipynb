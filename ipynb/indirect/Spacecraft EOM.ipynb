{
 "cells": [
  {
   "cell_type": "code",
   "execution_count": 1,
   "metadata": {
    "collapsed": true
   },
   "outputs": [],
   "source": [
    "from sympy import *\n",
    "from sympy.utilities.codegen import codegen\n",
    "init_printing()"
   ]
  },
  {
   "cell_type": "code",
   "execution_count": 2,
   "metadata": {
    "collapsed": true
   },
   "outputs": [],
   "source": [
    "# state\n",
    "x, y, z, vx, vy, vz, m = symbols('x y z vx vy vz m')\n",
    "r = Matrix([x, y, z])\n",
    "v = Matrix([vx, vy, vz])\n",
    "s = Matrix([r, v, [m]])\n",
    "rmag = sqrt(x**2 + y**2 + z**2)\n",
    "\n",
    "# costate\n",
    "lx, ly, lz, lvx, lvy, lvz, lm = symbols('lx ly lz lvx lvy lvz lm')\n",
    "lr = Matrix([lx, ly, lz])\n",
    "lv = Matrix([lvx, lvy, lvz])\n",
    "l = Matrix([lr, lv, [lm]])\n",
    "lrmag, lvmag = symbols('lr lv')\n",
    "\n",
    "# full state \n",
    "fs = Matrix([s, l])\n",
    "\n",
    "# controls\n",
    "u, ix, iy, iz = symbols('u ix iy iz')\n",
    "i = Matrix([ix, iy, iz])\n",
    "\n",
    "# parametres\n",
    "c1, c2, alpha, mu = symbols('c1 c2 alpha mu')"
   ]
  },
  {
   "cell_type": "code",
   "execution_count": 3,
   "metadata": {},
   "outputs": [
    {
     "data": {
      "text/latex": [
       "$$\\left[\\begin{matrix}vx\\\\vy\\\\vz\\\\\\frac{c_{1} ix}{m} u - \\frac{\\mu x}{\\left(x^{2} + y^{2} + z^{2}\\right)^{\\frac{3}{2}}}\\\\\\frac{c_{1} iy}{m} u - \\frac{\\mu y}{\\left(x^{2} + y^{2} + z^{2}\\right)^{\\frac{3}{2}}}\\\\\\frac{c_{1} iz}{m} u - \\frac{\\mu z}{\\left(x^{2} + y^{2} + z^{2}\\right)^{\\frac{3}{2}}}\\\\- c_{2} u\\end{matrix}\\right]$$"
      ],
      "text/plain": [
       "⎡            vx             ⎤\n",
       "⎢                           ⎥\n",
       "⎢            vy             ⎥\n",
       "⎢                           ⎥\n",
       "⎢            vz             ⎥\n",
       "⎢                           ⎥\n",
       "⎢c₁⋅ix⋅u          μ⋅x       ⎥\n",
       "⎢─────── - ─────────────────⎥\n",
       "⎢   m                    3/2⎥\n",
       "⎢          ⎛ 2    2    2⎞   ⎥\n",
       "⎢          ⎝x  + y  + z ⎠   ⎥\n",
       "⎢                           ⎥\n",
       "⎢c₁⋅iy⋅u          μ⋅y       ⎥\n",
       "⎢─────── - ─────────────────⎥\n",
       "⎢   m                    3/2⎥\n",
       "⎢          ⎛ 2    2    2⎞   ⎥\n",
       "⎢          ⎝x  + y  + z ⎠   ⎥\n",
       "⎢                           ⎥\n",
       "⎢c₁⋅iz⋅u          μ⋅z       ⎥\n",
       "⎢─────── - ─────────────────⎥\n",
       "⎢   m                    3/2⎥\n",
       "⎢          ⎛ 2    2    2⎞   ⎥\n",
       "⎢          ⎝x  + y  + z ⎠   ⎥\n",
       "⎢                           ⎥\n",
       "⎣           -c₂⋅u           ⎦"
      ]
     },
     "execution_count": 3,
     "metadata": {},
     "output_type": "execute_result"
    }
   ],
   "source": [
    "# state equations of motion\n",
    "ds = Matrix([\n",
    "    v,\n",
    "    (-mu/rmag**3)*r + (c1*u/m)*i,\n",
    "    [-c2*u]\n",
    "])\n",
    "ds"
   ]
  },
  {
   "cell_type": "code",
   "execution_count": 4,
   "metadata": {},
   "outputs": [
    {
     "data": {
      "image/png": "[encoded data removed]",
      "text/latex": [
       "$$\\alpha u + u^{2} \\left(- \\alpha + 1\\right)$$"
      ],
      "text/plain": [
       "       2         \n",
       "α⋅u + u ⋅(-α + 1)"
      ]
     },
     "execution_count": 4,
     "metadata": {},
     "output_type": "execute_result"
    }
   ],
   "source": [
    "# define the Lagrangian\n",
    "L = alpha*u + (1 - alpha)*u**2\n",
    "L"
   ]
  },
  {
   "cell_type": "code",
   "execution_count": 5,
   "metadata": {},
   "outputs": [
    {
     "data": {
      "image/png": "[encoded data removed]",
      "text/latex": [
       "$$\\alpha u - c_{2} lm u + lvx \\left(\\frac{c_{1} ix}{m} u - \\frac{\\mu x}{\\left(x^{2} + y^{2} + z^{2}\\right)^{\\frac{3}{2}}}\\right) + lvy \\left(\\frac{c_{1} iy}{m} u - \\frac{\\mu y}{\\left(x^{2} + y^{2} + z^{2}\\right)^{\\frac{3}{2}}}\\right) + lvz \\left(\\frac{c_{1} iz}{m} u - \\frac{\\mu z}{\\left(x^{2} + y^{2} + z^{2}\\right)^{\\frac{3}{2}}}\\right) + lx vx + ly vy + lz vz + u^{2} \\left(- \\alpha + 1\\right)$$"
      ],
      "text/plain": [
       "                    ⎛c₁⋅ix⋅u          μ⋅x       ⎞       ⎛c₁⋅iy⋅u          μ⋅y \n",
       "α⋅u - c₂⋅lm⋅u + lvx⋅⎜─────── - ─────────────────⎟ + lvy⋅⎜─────── - ───────────\n",
       "                    ⎜   m                    3/2⎟       ⎜   m                 \n",
       "                    ⎜          ⎛ 2    2    2⎞   ⎟       ⎜          ⎛ 2    2   \n",
       "                    ⎝          ⎝x  + y  + z ⎠   ⎠       ⎝          ⎝x  + y  + \n",
       "\n",
       "      ⎞       ⎛c₁⋅iz⋅u          μ⋅z       ⎞                            2      \n",
       "──────⎟ + lvz⋅⎜─────── - ─────────────────⎟ + lx⋅vx + ly⋅vy + lz⋅vz + u ⋅(-α +\n",
       "   3/2⎟       ⎜   m                    3/2⎟                                   \n",
       " 2⎞   ⎟       ⎜          ⎛ 2    2    2⎞   ⎟                                   \n",
       "z ⎠   ⎠       ⎝          ⎝x  + y  + z ⎠   ⎠                                   \n",
       "\n",
       "   \n",
       " 1)\n",
       "   \n",
       "   \n",
       "   "
      ]
     },
     "execution_count": 5,
     "metadata": {},
     "output_type": "execute_result"
    }
   ],
   "source": [
    "# create Hamiltonian\n",
    "H = l.dot(ds) + L\n",
    "H"
   ]
  },
  {
   "cell_type": "code",
   "execution_count": 6,
   "metadata": {},
   "outputs": [
    {
     "name": "stdout",
     "output_type": "stream",
     "text": [
      "([(x0, x**2), (x1, y**2), (x2, z**2), (x3, x0 + x1 + x2), (x4, x3**(-5/2)), (x5, 3*lvy*mu*x4*y), (x6, 3*lvz*mu*x4*z), (x7, -mu/x3**(3/2)), (x8, 3*mu*x4), (x9, 3*lvx*mu*x*x4), (x10, c1*u/m**2)], [Matrix([\n",
      "[     -lvx*(x0*x8 + x7) - x*x5 - x*x6],\n",
      "[     -lvy*(x1*x8 + x7) - x6*y - x9*y],\n",
      "[     -lvz*(x2*x8 + x7) - x5*z - x9*z],\n",
      "[                                 -lx],\n",
      "[                                 -ly],\n",
      "[                                 -lz],\n",
      "[ix*lvx*x10 + iy*lvy*x10 + iz*lvz*x10]])])\n"
     ]
    }
   ],
   "source": [
    "# costate equations of motion\n",
    "dl = -Matrix([H.diff(i) for i in s])\n",
    "print(cse(dl))"
   ]
  },
  {
   "cell_type": "code",
   "execution_count": 8,
   "metadata": {},
   "outputs": [
    {
     "name": "stdout",
     "output_type": "stream",
     "text": [
      "([(x0, c1*u/m), (x1, x**2), (x2, y**2), (x3, z**2), (x4, x1 + x2 + x3), (x5, mu/x4**(3/2)), (x6, x4**(-5/2)), (x7, 3*lvy*mu*x6*y), (x8, 3*lvz*mu*x6*z), (x9, -x5), (x10, 3*mu*x6), (x11, 3*lvx*mu*x*x6), (x12, c1*u/m**2)], [Matrix([\n",
      "[                                  vx],\n",
      "[                                  vy],\n",
      "[                                  vz],\n",
      "[                        ix*x0 - x*x5],\n",
      "[                        iy*x0 - x5*y],\n",
      "[                        iz*x0 - x5*z],\n",
      "[                               -c2*u],\n",
      "[    -lvx*(x1*x10 + x9) - x*x7 - x*x8],\n",
      "[   -lvy*(x10*x2 + x9) - x11*y - x8*y],\n",
      "[   -lvz*(x10*x3 + x9) - x11*z - x7*z],\n",
      "[                                 -lx],\n",
      "[                                 -ly],\n",
      "[                                 -lz],\n",
      "[ix*lvx*x12 + iy*lvy*x12 + iz*lvz*x12]])])\n"
     ]
    }
   ],
   "source": [
    "# full state equations of motion\n",
    "dfs = Matrix([ds, dl])\n",
    "print(cse(dfs))"
   ]
  },
  {
   "cell_type": "code",
   "execution_count": null,
   "metadata": {},
   "outputs": [],
   "source": [
    "# Hamiltionian terms with throttle\n",
    "ueq = (1 - sigma)*u**2 + u*(sigma - lm*c2 - lvmag*c1/m)\n",
    "ueq"
   ]
  },
  {
   "cell_type": "code",
   "execution_count": null,
   "metadata": {},
   "outputs": [],
   "source": [
    "ueqdiff = ueq.diff(u)\n",
    "ueqdiff"
   ]
  },
  {
   "cell_type": "code",
   "execution_count": null,
   "metadata": {},
   "outputs": [],
   "source": [
    "ustar = simplify(solve(ueqdiff, u))[0]\n",
    "ustar"
   ]
  },
  {
   "cell_type": "code",
   "execution_count": null,
   "metadata": {},
   "outputs": [],
   "source": [
    "ustar.subs(sigma, 0)"
   ]
  },
  {
   "cell_type": "code",
   "execution_count": null,
   "metadata": {},
   "outputs": [],
   "source": [
    "L"
   ]
  },
  {
   "cell_type": "code",
   "execution_count": null,
   "metadata": {},
   "outputs": [],
   "source": [
    "# switching function\n",
    "S = u - lm*c2*u - lvmag*c1/m*u\n",
    "S"
   ]
  },
  {
   "cell_type": "code",
   "execution_count": null,
   "metadata": {},
   "outputs": [],
   "source": [
    "ueq"
   ]
  },
  {
   "cell_type": "code",
   "execution_count": null,
   "metadata": {},
   "outputs": [],
   "source": [
    "ustar"
   ]
  },
  {
   "cell_type": "code",
   "execution_count": null,
   "metadata": {},
   "outputs": [],
   "source": [
    "dfs"
   ]
  },
  {
   "cell_type": "code",
   "execution_count": null,
   "metadata": {
    "collapsed": true
   },
   "outputs": [],
   "source": []
  }
 ],
 "metadata": {
  "kernelspec": {
   "display_name": "Python 3",
   "language": "python",
   "name": "python3"
  },
  "language_info": {
   "codemirror_mode": {
    "name": "ipython",
    "version": 3
   },
   "file_extension": ".py",
   "mimetype": "text/x-python",
   "name": "python",
   "nbconvert_exporter": "python",
   "pygments_lexer": "ipython3",
   "version": "3.6.2"
  }
 },
 "nbformat": 4,
 "nbformat_minor": 2
}
