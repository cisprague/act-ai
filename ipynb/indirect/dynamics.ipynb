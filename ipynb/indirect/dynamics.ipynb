{
 "cells": [
  {
   "cell_type": "code",
   "execution_count": 1,
   "metadata": {
    "collapsed": true
   },
   "outputs": [],
   "source": [
    "# resources\n",
    "import sys\n",
    "sys.path.append(\"../../py/\")\n",
    "from spacecraft import spacecraft\n",
    "from indirect.dynamics import dynamics\n",
    "import numpy as np\n",
    "import PyKEP as pk"
   ]
  },
  {
   "cell_type": "code",
   "execution_count": 2,
   "metadata": {
    "collapsed": true
   },
   "outputs": [],
   "source": [
    "# instantiate spacecraft\n",
    "sc = spacecraft()"
   ]
  },
  {
   "cell_type": "code",
   "execution_count": 3,
   "metadata": {
    "collapsed": true
   },
   "outputs": [],
   "source": [
    "# instantiate dynamics\n",
    "dyn = dynamics(sc)"
   ]
  },
  {
   "cell_type": "code",
   "execution_count": 4,
   "metadata": {},
   "outputs": [
    {
     "name": "stdout",
     "output_type": "stream",
     "text": [
      "Example Nondimensional Fullstate =\n",
      "[  1.05157363e+00  -9.02413393e-01  -4.47208637e-02   5.60664535e-01\n",
      "   6.86970892e-01   6.31631259e-04   1.00000000e+00   2.18848787e+00\n",
      "   4.44380170e-01  -6.39048453e-01   1.71131983e+00  -1.43855538e+00\n",
      "   8.25849610e-01   1.27863924e+00]\n"
     ]
    }
   ],
   "source": [
    "# instantiate planet\n",
    "p = pk.planet.jpl_lp('mars')\n",
    "\n",
    "# get example state\n",
    "r, v = np.asarray(p.eph(5433))\n",
    "m = sc.mass\n",
    "\n",
    "# nondimensionalise state\n",
    "r /= dyn.L\n",
    "v /= dyn.V\n",
    "m /= dyn.M\n",
    "\n",
    "# random standard normal costates\n",
    "l = np.random.randn(7)\n",
    "\n",
    "# assemble example fullstate\n",
    "fs = np.hstack((r, v, [m], l))\n",
    "\n",
    "# print\n",
    "print(\"Example Nondimensional Fullstate =\\n\" + str(fs))"
   ]
  },
  {
   "cell_type": "code",
   "execution_count": 5,
   "metadata": {},
   "outputs": [
    {
     "name": "stdout",
     "output_type": "stream",
     "text": [
      "Controls: [throttle, x-dir, y-dir, z-dir]\n",
      "Unbounded Quadratic Control =\n",
      "[ 0.00331925 -0.71804849  0.60359993 -0.34651621]\n",
      "Bounded Quadratic Control =\n",
      "[ 0.00331925 -0.71804849  0.60359993 -0.34651621]\n",
      "Mass Optimal Control =\n",
      "[ 0.         -0.71804849  0.60359993 -0.34651621]\n"
     ]
    }
   ],
   "source": [
    "# compute unbounded quadratic controls from Pontryagin\n",
    "dyn.alpha = 0\n",
    "dyn.bound = False\n",
    "qubc = dyn.pontryagin(fs)\n",
    "\n",
    "# compute bounded quadratic controls from Pontryagin\n",
    "dyn.bound = True\n",
    "qc = dyn.pontryagin(fs)\n",
    "\n",
    "# compute mass optimal controls from Pontryagin\n",
    "dyn.alpha = 1\n",
    "mc = dyn.pontryagin(fs)\n",
    "\n",
    "# print\n",
    "print(\"Controls: [throttle, x-dir, y-dir, z-dir]\")\n",
    "print(\"Unbounded Quadratic Control =\\n\" + str(qubc))\n",
    "print(\"Bounded Quadratic Control =\\n\" + str(qc))\n",
    "print(\"Mass Optimal Control =\\n\" + str(mc))"
   ]
  },
  {
   "cell_type": "code",
   "execution_count": 6,
   "metadata": {},
   "outputs": [
    {
     "name": "stdout",
     "output_type": "stream",
     "text": [
      "Hamiltionian = 0.383318808405\n"
     ]
    }
   ],
   "source": [
    "# compute Hamiltonian (not needed)\n",
    "H = dyn.hamiltonian(fs)\n",
    "print(\"Hamiltionian = \" + str(H))"
   ]
  },
  {
   "cell_type": "code",
   "execution_count": 7,
   "metadata": {},
   "outputs": [
    {
     "name": "stdout",
     "output_type": "stream",
     "text": [
      "Fullstate Rate of Change =\n",
      "[  5.60664535e-01   6.86970892e-01   6.31631259e-04  -3.94599386e-01\n",
      "   3.38627521e-01   1.67813502e-02  -0.00000000e+00  -1.24289789e+00\n",
      "   1.07786520e+00   3.90064435e-01  -2.18848787e+00  -4.44380170e-01\n",
      "   6.39048453e-01  -0.00000000e+00]\n"
     ]
    }
   ],
   "source": [
    "# compute fullstate transition\n",
    "dfs = dyn.eom_fullstate(fs)\n",
    "print(\"Fullstate Rate of Change =\\n\" + str(dfs))"
   ]
  },
  {
   "cell_type": "code",
   "execution_count": 8,
   "metadata": {},
   "outputs": [
    {
     "name": "stdout",
     "output_type": "stream",
     "text": [
      "Fullstate Rate of Chance Jacobian =\n",
      "[[ 0.          0.          0.          1.          0.          0.          0.\n",
      "   0.          0.          0.          0.          0.          0.          0.        ]\n",
      " [ 0.          0.          0.          0.          1.          0.          0.\n",
      "   0.          0.          0.          0.          0.          0.          0.        ]\n",
      " [ 0.          0.          0.          0.          0.          1.          0.\n",
      "   0.          0.          0.          0.          0.          0.          0.        ]\n",
      " [ 0.27238573 -0.55576903 -0.02754222  0.          0.          0.          0.\n",
      "   0.          0.          0.          0.          0.          0.          0.        ]\n",
      " [-0.55576903  0.10168953  0.0236355   0.          0.          0.         -0.\n",
      "   0.          0.          0.          0.          0.          0.          0.        ]\n",
      " [-0.02754222  0.0236355  -0.37407526  0.          0.          0.          0.\n",
      "   0.          0.          0.          0.          0.          0.          0.        ]\n",
      " [ 0.          0.          0.          0.          0.          0.          0.\n",
      "   0.          0.          0.          0.          0.          0.          0.        ]\n",
      " [ 1.25589298 -2.63458151 -0.68308318  0.          0.          0.          0.\n",
      "   0.          0.          0.         -0.27238573  0.55576903  0.02754222\n",
      "   0.        ]\n",
      " [-2.63458151  0.48413399  0.58697773  0.          0.          0.          0.\n",
      "   0.          0.          0.          0.55576903 -0.10168953 -0.0236355\n",
      "   0.        ]\n",
      " [-0.68308318  0.58697773 -1.74002698  0.          0.          0.          0.\n",
      "   0.          0.          0.          0.02754222 -0.0236355   0.37407526\n",
      "   0.        ]\n",
      " [ 0.          0.          0.          0.          0.          0.          0.\n",
      "  -1.          0.          0.          0.          0.          0.          0.        ]\n",
      " [ 0.          0.          0.          0.          0.          0.          0.\n",
      "   0.         -1.          0.          0.          0.          0.          0.        ]\n",
      " [ 0.          0.          0.          0.          0.          0.          0.\n",
      "   0.          0.         -1.          0.          0.          0.          0.        ]\n",
      " [ 0.          0.          0.          0.          0.          0.          0.\n",
      "   0.          0.          0.         -0.          0.         -0.          0.        ]]\n"
     ]
    }
   ],
   "source": [
    "# compute fullstate transition Jacobian\n",
    "ddfs = dyn.eom_fullstate_jac(fs)\n",
    "print(\"Fullstate Rate of Chance Jacobian =\\n\" + str(ddfs))"
   ]
  }
 ],
 "metadata": {
  "kernelspec": {
   "display_name": "Python 3",
   "language": "python",
   "name": "python3"
  },
  "language_info": {
   "codemirror_mode": {
    "name": "ipython",
    "version": 3
   },
   "file_extension": ".py",
   "mimetype": "text/x-python",
   "name": "python",
   "nbconvert_exporter": "python",
   "pygments_lexer": "ipython3",
   "version": "3.6.2"
  }
 },
 "nbformat": 4,
 "nbformat_minor": 2
}
