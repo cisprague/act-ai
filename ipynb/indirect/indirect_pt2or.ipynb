{
 "cells": [
  {
   "cell_type": "markdown",
   "metadata": {},
   "source": [
    "# Resources"
   ]
  },
  {
   "cell_type": "code",
   "execution_count": 1,
   "metadata": {},
   "outputs": [
    {
     "name": "stderr",
     "output_type": "stream",
     "text": [
      "/usr/lib/python3.6/importlib/_bootstrap.py:205: RuntimeWarning: to-Python converter for pagmo::population already registered; second conversion method ignored.\n",
      "  return f(*args, **kwds)\n",
      "/usr/lib/python3.6/importlib/_bootstrap.py:205: RuntimeWarning: to-Python converter for pagmo::archipelago already registered; second conversion method ignored.\n",
      "  return f(*args, **kwds)\n"
     ]
    }
   ],
   "source": [
    "import numpy as np\n",
    "import pygmo as pg\n",
    "import pygmo_plugins_nonfree as pg7\n",
    "import PyKEP as pk\n",
    "import matplotlib.pyplot as plt\n",
    "\n",
    "#%matplotlib\n",
    "#%matplotlib inline\n",
    "#%config InlineBackend.figure_format = 'svg'"
   ]
  },
  {
   "cell_type": "markdown",
   "metadata": {},
   "source": [
    "# Algorithm"
   ]
  },
  {
   "cell_type": "code",
   "execution_count": 2,
   "metadata": {
    "collapsed": true
   },
   "outputs": [],
   "source": [
    "# algorithm\n",
    "uda = pg7.snopt7(True, \"/usr/lib/libsnopt7_c.so\")\n",
    "uda.set_integer_option(\"Major iterations limit\", 4000)\n",
    "uda.set_integer_option(\"Iterations limit\", 40000)\n",
    "uda.set_numeric_option(\"Major optimality tolerance\", 1e-3)\n",
    "uda.set_numeric_option(\"Major feasibility tolerance\", 1e-8)\n",
    "algo = pg.algorithm(uda)"
   ]
  },
  {
   "cell_type": "markdown",
   "metadata": {},
   "source": [
    "# A priori"
   ]
  },
  {
   "cell_type": "code",
   "execution_count": 3,
   "metadata": {},
   "outputs": [],
   "source": [
    "z0 = [\n",
    "    2.97590873e+02, 8.43010991e-02, 6.26851629e+00,\n",
    "    5.09737634e+01, -7.35789606e+01, -5.35749595e+00,\n",
    "    9.89833613e+01, -1.07638347e-02, -1.41668668e+00,\n",
    "    1.38626647e+01\n",
    "]\n",
    "\n",
    "p0 = pk.planet.jpl_lp(\"earth\")\n",
    "pf = pk.planet.jpl_lp(\"mars\")\n",
    "\n",
    "el0 = np.array(p0.osculating_elements(pk.epoch(0)))\n",
    "elf = np.array(pf.osculating_elements(pk.epoch(0)))\n",
    "\n",
    "mass = 1000\n",
    "thrust = 0.3\n",
    "isp = 2500\n",
    "\n",
    "atol = 1e-10\n",
    "rtol = 1e-10\n",
    "\n",
    "Tlb = 100\n",
    "Tub = 500\n",
    "\n",
    "pi = 3.1459\n",
    "Mlb = -2*pi\n",
    "Mub = 2*pi\n",
    "\n",
    "mu = pk.MU_SUN\n",
    "\n",
    "udp = pk.trajopt.indirect_or2or(\n",
    "    el0, elf, mass, thrust, isp,\n",
    "    atol, rtol, Tlb, Tub, Mlb, Mub, Mlb, Mub,\n",
    "    freemass=True, freetime=True, alpha=1, mu=pk.MU_SUN\n",
    ")\n",
    "\n",
    "udp.fitness(z0)\n",
    "\n",
    "x0 = udp.leg.get_states()[0, 1:8]\n",
    "\n",
    "T = z0[0]\n",
    "Mf = z0[2]\n",
    "l0 = z0[3:]\n",
    "\n",
    "z0 = np.hstack(([T, Mf], l0))"
   ]
  },
  {
   "cell_type": "markdown",
   "metadata": {},
   "source": [
    "# Indirect: Mass Optimal Point to Orbit\n",
    "$$z = [T, M_f, \\vec{\\lambda}_0]$$"
   ]
  },
  {
   "cell_type": "code",
   "execution_count": 4,
   "metadata": {},
   "outputs": [],
   "source": [
    "times = np.linspace(z0[0], 200, 30)"
   ]
  },
  {
   "cell_type": "code",
   "execution_count": 5,
   "metadata": {},
   "outputs": [
    {
     "ename": "RuntimeError",
     "evalue": "couldn't create a NumPy array: the 'PyArray_SimpleNew()' function failed",
     "output_type": "error",
     "traceback": [
      "\u001b[0;31m---------------------------------------------------------------------------\u001b[0m",
      "\u001b[0;31mRuntimeError\u001b[0m                              Traceback (most recent call last)",
      "\u001b[0;32m<ipython-input-5-5f15fc5f7b02>\u001b[0m in \u001b[0;36m<module>\u001b[0;34m()\u001b[0m\n\u001b[1;32m     27\u001b[0m \u001b[0;34m\u001b[0m\u001b[0m\n\u001b[1;32m     28\u001b[0m     \u001b[0;31m# optimise\u001b[0m\u001b[0;34m\u001b[0m\u001b[0;34m\u001b[0m\u001b[0m\n\u001b[0;32m---> 29\u001b[0;31m     \u001b[0mpop\u001b[0m \u001b[0;34m=\u001b[0m \u001b[0malgo\u001b[0m\u001b[0;34m.\u001b[0m\u001b[0mevolve\u001b[0m\u001b[0;34m(\u001b[0m\u001b[0mpop\u001b[0m\u001b[0;34m)\u001b[0m\u001b[0;34m\u001b[0m\u001b[0m\n\u001b[0m\u001b[1;32m     30\u001b[0m \u001b[0;34m\u001b[0m\u001b[0m\n\u001b[1;32m     31\u001b[0m     \u001b[0;31m# store solution\u001b[0m\u001b[0;34m\u001b[0m\u001b[0;34m\u001b[0m\u001b[0m\n",
      "\u001b[0;31mRuntimeError\u001b[0m: couldn't create a NumPy array: the 'PyArray_SimpleNew()' function failed"
     ]
    }
   ],
   "source": [
    "trajn = list()\n",
    "\n",
    "for T in times:\n",
    "    \n",
    "    # constant time of flight\n",
    "    Tlb, Tub = T, T\n",
    "    \n",
    "    # point to orbit problem\n",
    "    udp = pk.trajopt.indirect_pt2or(\n",
    "        x0, elf, mass, thrust, isp,\n",
    "        atol, rtol, Tlb, Tub,\n",
    "        Mlb, Mub, True, True,\n",
    "        1, True, mu\n",
    "    )\n",
    "    \n",
    "    # pygmo problem\n",
    "    prob = pg.problem(udp)\n",
    "    \n",
    "    # constraint tolerance\n",
    "    prob.c_tol = [1e-6]*udp.get_nec()\n",
    "    \n",
    "    # population\n",
    "    pop = pg.population(prob, 0)\n",
    "    \n",
    "    # guess\n",
    "    pop.push_back(z0)\n",
    "    \n",
    "    # optimise\n",
    "    pop = algo.evolve(pop)\n",
    "    \n",
    "    # store solution\n",
    "    z0 = pop.champion_x\n",
    "    \n",
    "    # store leg\n",
    "    udp.fitness(pop.champion_x)\n",
    "    trajn.append(udp.leg.get_states(atol, rtol))"
   ]
  },
  {
   "cell_type": "markdown",
   "metadata": {},
   "source": [
    "### plt.figure()\n",
    "\n",
    "for traj in trajs:\n",
    "    \n",
    "    plt.plot()"
   ]
  },
  {
   "cell_type": "code",
   "execution_count": null,
   "metadata": {
    "collapsed": true
   },
   "outputs": [],
   "source": []
  }
 ],
 "metadata": {
  "kernelspec": {
   "display_name": "Python 3",
   "language": "python",
   "name": "python3"
  },
  "language_info": {
   "codemirror_mode": {
    "name": "ipython",
    "version": 3
   },
   "file_extension": ".py",
   "mimetype": "text/x-python",
   "name": "python",
   "nbconvert_exporter": "python",
   "pygments_lexer": "ipython3",
   "version": "3.6.2"
  }
 },
 "nbformat": 4,
 "nbformat_minor": 2
}
