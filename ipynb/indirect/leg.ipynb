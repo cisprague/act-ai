{
 "cells": [
  {
   "cell_type": "markdown",
   "metadata": {},
   "source": [
    "# Pontryagin Leg Testing"
   ]
  },
  {
   "cell_type": "markdown",
   "metadata": {},
   "source": [
    "## Resources"
   ]
  },
  {
   "cell_type": "code",
   "execution_count": 1,
   "metadata": {},
   "outputs": [],
   "source": [
    "import PyKEP as pk\n",
    "import numpy as np\n",
    "import matplotlib as mpl\n",
    "from mpl_toolkits.mplot3d import Axes3D\n",
    "import matplotlib.pyplot as plt\n",
    "%matplotlib inline"
   ]
  },
  {
   "cell_type": "markdown",
   "metadata": {},
   "source": [
    "## Leg Construction Arguments"
   ]
  },
  {
   "cell_type": "code",
   "execution_count": 2,
   "metadata": {
    "collapsed": true
   },
   "outputs": [],
   "source": [
    "# spacecraft\n",
    "sc = pk.sims_flanagan.spacecraft(1000, 0.3, 2500)\n",
    "\n",
    "# departure time\n",
    "t0 = pk.epoch(0)\n",
    "\n",
    "# departure state\n",
    "p0 = pk.planet.jpl_lp(\"earth\")\n",
    "r0, v0 = p0.eph(t0)\n",
    "x0 = pk.sims_flanagan.sc_state(r0, v0, sc.mass)\n",
    "\n",
    "# departure costates\n",
    "l0 = np.random.randn(7)\n",
    "\n",
    "# arrival time\n",
    "tf = pk.epoch(1000)\n",
    "\n",
    "# arrival state\n",
    "pf = pk.planet.jpl_lp(\"mars\")\n",
    "rf, vf = pf.eph(tf)\n",
    "xf = pk.sims_flanagan.sc_state(rf, vf, sc.mass/10)\n",
    "# NOTE: final mass is redundant if freemass == True\n",
    "\n",
    "# gravitational parametre\n",
    "mu = pk.MU_SUN"
   ]
  },
  {
   "cell_type": "markdown",
   "metadata": {},
   "source": [
    "## Unbounded Quadratic Control"
   ]
  },
  {
   "cell_type": "code",
   "execution_count": 3,
   "metadata": {
    "collapsed": true
   },
   "outputs": [],
   "source": [
    "leg0 = pk.pontryagin.leg(t0, x0, l0, tf, xf, alpha=0, bound=True)\n",
    "leg1 = pk.pontryagin.leg(alpha=0, bound=True)\n",
    "leg1.set(t0, x0, l0, tf, xf)"
   ]
  },
  {
   "cell_type": "code",
   "execution_count": 4,
   "metadata": {},
   "outputs": [
    {
     "data": {
      "image/png": "[encoded data removed]",
      "text/plain": [
       "<matplotlib.figure.Figure at 0x7f114efe6a58>"
      ]
     },
     "metadata": {},
     "output_type": "display_data"
    }
   ],
   "source": [
    "leg0.plot('t', 'u', xlabel=True, ylabel=True)"
   ]
  },
  {
   "cell_type": "code",
   "execution_count": 5,
   "metadata": {},
   "outputs": [
    {
     "data": {
      "image/png": "[encoded data removed]",
      "text/plain": [
       "<matplotlib.figure.Figure at 0x7f1171ef7470>"
      ]
     },
     "metadata": {},
     "output_type": "display_data"
    }
   ],
   "source": [
    "leg1.plot('t', 'u', xlabel=True, ylabel=True)"
   ]
  },
  {
   "cell_type": "code",
   "execution_count": 26,
   "metadata": {},
   "outputs": [
    {
     "data": {
      "text/plain": [
       "array([-1.83245832, -0.2327916 , -0.13799721, -0.28697346,  1.28987879,\n",
       "       -0.4255373 , -0.69893231])"
      ]
     },
     "execution_count": 26,
     "metadata": {},
     "output_type": "execute_result"
    }
   ],
   "source": [
    "leg1.trajectory[0, 7:14]"
   ]
  },
  {
   "cell_type": "code",
   "execution_count": null,
   "metadata": {
    "collapsed": true
   },
   "outputs": [],
   "source": []
  }
 ],
 "metadata": {
  "kernelspec": {
   "display_name": "Python 3",
   "language": "python",
   "name": "python3"
  },
  "language_info": {
   "codemirror_mode": {
    "name": "ipython",
    "version": 3
   },
   "file_extension": ".py",
   "mimetype": "text/x-python",
   "name": "python",
   "nbconvert_exporter": "python",
   "pygments_lexer": "ipython3",
   "version": "3.6.2"
  }
 },
 "nbformat": 4,
 "nbformat_minor": 2
}
