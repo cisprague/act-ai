{
 "cells": [
  {
   "cell_type": "code",
   "execution_count": 2,
   "metadata": {
    "collapsed": true
   },
   "outputs": [],
   "source": [
    "from sympy import *\n",
    "from sympy.utilities.codegen import codegen\n",
    "init_printing()"
   ]
  },
  {
   "cell_type": "code",
   "execution_count": 3,
   "metadata": {},
   "outputs": [],
   "source": [
    "# state\n",
    "x, y, z, vx, vy, vz, m = symbols('x y z vx vy vz m')\n",
    "r = Matrix([x, y, z])\n",
    "v = Matrix([vx, vy, vz])\n",
    "s = Matrix([r, v, [m]])\n",
    "rmag = sqrt(x**2 + y**2 + z**2)\n",
    "\n",
    "# costate\n",
    "lx, ly, lz, lvx, lvy, lvz, lm = symbols('lx ly lz lvx lvy lvz lm')\n",
    "lr = Matrix([lx, ly, lz])\n",
    "lv = Matrix([lvx, lvy, lvz])\n",
    "l = Matrix([lr, lv, [lm]])\n",
    "lrmag, lvmag = symbols('lr lv')\n",
    "\n",
    "# full state \n",
    "fs = Matrix([s, l])\n",
    "\n",
    "# controls\n",
    "u, ix, iy, iz = symbols('u ix iy iz')\n",
    "i = Matrix([ix, iy, iz])\n",
    "\n",
    "# parametres\n",
    "c1, c2, alpha, mu = symbols('c1 c2 alpha mu')"
   ]
  },
  {
   "cell_type": "code",
   "execution_count": 4,
   "metadata": {},
   "outputs": [
    {
     "data": {
      "text/latex": [
       "$$\\left[\\begin{matrix}vx\\\\vy\\\\vz\\\\\\frac{c_{1} ix}{m} u - \\frac{\\mu x}{\\left(x^{2} + y^{2} + z^{2}\\right)^{\\frac{3}{2}}}\\\\\\frac{c_{1} iy}{m} u - \\frac{\\mu y}{\\left(x^{2} + y^{2} + z^{2}\\right)^{\\frac{3}{2}}}\\\\\\frac{c_{1} iz}{m} u - \\frac{\\mu z}{\\left(x^{2} + y^{2} + z^{2}\\right)^{\\frac{3}{2}}}\\\\- c_{2} u\\end{matrix}\\right]$$"
      ],
      "text/plain": [
       "⎡            vx             ⎤\n",
       "⎢                           ⎥\n",
       "⎢            vy             ⎥\n",
       "⎢                           ⎥\n",
       "⎢            vz             ⎥\n",
       "⎢                           ⎥\n",
       "⎢c₁⋅ix⋅u          μ⋅x       ⎥\n",
       "⎢─────── - ─────────────────⎥\n",
       "⎢   m                    3/2⎥\n",
       "⎢          ⎛ 2    2    2⎞   ⎥\n",
       "⎢          ⎝x  + y  + z ⎠   ⎥\n",
       "⎢                           ⎥\n",
       "⎢c₁⋅iy⋅u          μ⋅y       ⎥\n",
       "⎢─────── - ─────────────────⎥\n",
       "⎢   m                    3/2⎥\n",
       "⎢          ⎛ 2    2    2⎞   ⎥\n",
       "⎢          ⎝x  + y  + z ⎠   ⎥\n",
       "⎢                           ⎥\n",
       "⎢c₁⋅iz⋅u          μ⋅z       ⎥\n",
       "⎢─────── - ─────────────────⎥\n",
       "⎢   m                    3/2⎥\n",
       "⎢          ⎛ 2    2    2⎞   ⎥\n",
       "⎢          ⎝x  + y  + z ⎠   ⎥\n",
       "⎢                           ⎥\n",
       "⎣           -c₂⋅u           ⎦"
      ]
     },
     "execution_count": 4,
     "metadata": {},
     "output_type": "execute_result"
    }
   ],
   "source": [
    "# state equations of motion\n",
    "ds = Matrix([\n",
    "    v,\n",
    "    (-mu/rmag**3)*r + (c1*u/m)*i,\n",
    "    [-c2*u]\n",
    "])\n",
    "ds"
   ]
  },
  {
   "cell_type": "code",
   "execution_count": 5,
   "metadata": {},
   "outputs": [
    {
     "data": {
      "image/png": "[encoded data removed]",
      "text/latex": [
       "$$\\alpha u + u^{2} \\left(- \\alpha + 1\\right)$$"
      ],
      "text/plain": [
       "       2         \n",
       "α⋅u + u ⋅(-α + 1)"
      ]
     },
     "execution_count": 5,
     "metadata": {},
     "output_type": "execute_result"
    }
   ],
   "source": [
    "# define the Lagrangian\n",
    "L = alpha*u + (1 - alpha)*u**2\n",
    "L"
   ]
  },
  {
   "cell_type": "code",
   "execution_count": 6,
   "metadata": {},
   "outputs": [
    {
     "data": {
      "image/png": "[encoded data removed]",
      "text/latex": [
       "$$\\alpha u - c_{2} lm u + lvx \\left(\\frac{c_{1} ix}{m} u - \\frac{\\mu x}{\\left(x^{2} + y^{2} + z^{2}\\right)^{\\frac{3}{2}}}\\right) + lvy \\left(\\frac{c_{1} iy}{m} u - \\frac{\\mu y}{\\left(x^{2} + y^{2} + z^{2}\\right)^{\\frac{3}{2}}}\\right) + lvz \\left(\\frac{c_{1} iz}{m} u - \\frac{\\mu z}{\\left(x^{2} + y^{2} + z^{2}\\right)^{\\frac{3}{2}}}\\right) + lx vx + ly vy + lz vz + u^{2} \\left(- \\alpha + 1\\right)$$"
      ],
      "text/plain": [
       "                    ⎛c₁⋅ix⋅u          μ⋅x       ⎞       ⎛c₁⋅iy⋅u          μ⋅y \n",
       "α⋅u - c₂⋅lm⋅u + lvx⋅⎜─────── - ─────────────────⎟ + lvy⋅⎜─────── - ───────────\n",
       "                    ⎜   m                    3/2⎟       ⎜   m                 \n",
       "                    ⎜          ⎛ 2    2    2⎞   ⎟       ⎜          ⎛ 2    2   \n",
       "                    ⎝          ⎝x  + y  + z ⎠   ⎠       ⎝          ⎝x  + y  + \n",
       "\n",
       "      ⎞       ⎛c₁⋅iz⋅u          μ⋅z       ⎞                            2      \n",
       "──────⎟ + lvz⋅⎜─────── - ─────────────────⎟ + lx⋅vx + ly⋅vy + lz⋅vz + u ⋅(-α +\n",
       "   3/2⎟       ⎜   m                    3/2⎟                                   \n",
       " 2⎞   ⎟       ⎜          ⎛ 2    2    2⎞   ⎟                                   \n",
       "z ⎠   ⎠       ⎝          ⎝x  + y  + z ⎠   ⎠                                   \n",
       "\n",
       "   \n",
       " 1)\n",
       "   \n",
       "   \n",
       "   "
      ]
     },
     "execution_count": 6,
     "metadata": {},
     "output_type": "execute_result"
    }
   ],
   "source": [
    "# create Hamiltonian\n",
    "H = l.dot(ds) + L\n",
    "H"
   ]
  },
  {
   "cell_type": "code",
   "execution_count": 7,
   "metadata": {},
   "outputs": [
    {
     "name": "stdout",
     "output_type": "stream",
     "text": [
      "([(x0, x**2), (x1, y**2), (x2, z**2), (x3, x0 + x1 + x2), (x4, x3**(-5/2)), (x5, 3*lvy*mu*x4*y), (x6, 3*lvz*mu*x4*z), (x7, -mu/x3**(3/2)), (x8, 3*mu*x4), (x9, 3*lvx*mu*x*x4), (x10, c1*u/m**2)], [Matrix([\n",
      "[     -lvx*(x0*x8 + x7) - x*x5 - x*x6],\n",
      "[     -lvy*(x1*x8 + x7) - x6*y - x9*y],\n",
      "[     -lvz*(x2*x8 + x7) - x5*z - x9*z],\n",
      "[                                 -lx],\n",
      "[                                 -ly],\n",
      "[                                 -lz],\n",
      "[ix*lvx*x10 + iy*lvy*x10 + iz*lvz*x10]])])\n"
     ]
    }
   ],
   "source": [
    "# costate equations of motion\n",
    "dl = -Matrix([H.diff(i) for i in s])\n",
    "print(cse(dl))"
   ]
  },
  {
   "cell_type": "code",
   "execution_count": 8,
   "metadata": {},
   "outputs": [
    {
     "name": "stdout",
     "output_type": "stream",
     "text": [
      "([(x0, c1*u/m), (x1, x**2), (x2, y**2), (x3, z**2), (x4, x1 + x2 + x3), (x5, mu/x4**(3/2)), (x6, x4**(-5/2)), (x7, 3*lvy*mu*x6*y), (x8, 3*lvz*mu*x6*z), (x9, -x5), (x10, 3*mu*x6), (x11, 3*lvx*mu*x*x6), (x12, c1*u/m**2)], [Matrix([\n",
      "[                                  vx],\n",
      "[                                  vy],\n",
      "[                                  vz],\n",
      "[                        ix*x0 - x*x5],\n",
      "[                        iy*x0 - x5*y],\n",
      "[                        iz*x0 - x5*z],\n",
      "[                               -c2*u],\n",
      "[    -lvx*(x1*x10 + x9) - x*x7 - x*x8],\n",
      "[   -lvy*(x10*x2 + x9) - x11*y - x8*y],\n",
      "[   -lvz*(x10*x3 + x9) - x11*z - x7*z],\n",
      "[                                 -lx],\n",
      "[                                 -ly],\n",
      "[                                 -lz],\n",
      "[ix*lvx*x12 + iy*lvy*x12 + iz*lvz*x12]])])\n"
     ]
    }
   ],
   "source": [
    "# full state equations of motion\n",
    "dfs = Matrix([ds, dl])\n",
    "print(cse(dfs))"
   ]
  },
  {
   "cell_type": "code",
   "execution_count": 17,
   "metadata": {},
   "outputs": [
    {
     "name": "stdout",
     "output_type": "stream",
     "text": [
      "([(x0, x**2), (x1, y**2), (x2, z**2), (x3, x0 + x1 + x2), (x4, mu/x3**(3/2)), (x5, -x4), (x6, x3**(-5/2)), (x7, 3*mu*x6), (x8, x0*x7), (x9, mu*x*x6), (x10, 3*x9), (x11, x10*y), (x12, x10*z), (x13, c1*u/m**2), (x14, ix*x13), (x15, x1*x7), (x16, mu*x6*y), (x17, 3*x16), (x18, x17*z), (x19, iy*x13), (x20, x2*x7), (x21, iz*x13), (x22, -lvy*x17), (x23, mu*x6*z), (x24, 3*x23), (x25, -lvz*x24), (x26, x3**(-7/2)), (x27, 15*mu*x0*x26), (x28, x27*y), (x29, x27*z), (x30, 15*mu*x26), (x31, 15*mu*x*x26*y*z), (x32, lvz*x31), (x33, 15*mu*x*x26), (x34, x1*x33), (x35, lvy*x31), (x36, x2*x33), (x37, -x11), (x38, -x12), (x39, -lvx*x10), (x40, x1*x30*z), (x41, lvx*x31), (x42, x2*x30*y), (x43, -x18), (x44, 2*c1*u/m**3)], [Matrix([\n",
      "[                                                      0,                                                      0,                                                      0, 1, 0, 0,                                     0,  0,  0,  0,       0,         0,         0, 0],\n",
      "[                                                      0,                                                      0,                                                      0, 0, 1, 0,                                     0,  0,  0,  0,       0,         0,         0, 0],\n",
      "[                                                      0,                                                      0,                                                      0, 0, 0, 1,                                     0,  0,  0,  0,       0,         0,         0, 0],\n",
      "[                                                x5 + x8,                                                    x11,                                                    x12, 0, 0, 0,                                  -x14,  0,  0,  0,       0,         0,         0, 0],\n",
      "[                                                    x11,                                               x15 + x5,                                                    x18, 0, 0, 0,                                  -x19,  0,  0,  0,       0,         0,         0, 0],\n",
      "[                                                    x12,                                                    x18,                                               x20 + x5, 0, 0, 0,                                  -x21,  0,  0,  0,       0,         0,         0, 0],\n",
      "[                                                      0,                                                      0,                                                      0, 0, 0, 0,                                     0,  0,  0,  0,       0,         0,         0, 0],\n",
      "[-lvx*(-x**3*x30 + 9*x9) + lvy*x28 + lvz*x29 + x22 + x25,             -lvx*(x17 - x28) - lvy*x10 + lvy*x34 + x32,             -lvx*(x24 - x29) - lvz*x10 + lvz*x36 + x35, 0, 0, 0,                                     0,  0,  0,  0, x4 - x8,       x37,       x38, 0],\n",
      "[             -lvx*x17 + lvx*x28 - lvy*(x10 - x34) + x32, lvx*x34 - lvy*(9*x16 - x30*y**3) + lvz*x40 + x25 + x39,             -lvy*(x24 - x40) - lvz*x17 + lvz*x42 + x41, 0, 0, 0,                                     0,  0,  0,  0,     x37, -x15 + x4,       x43, 0],\n",
      "[             -lvx*x24 + lvx*x29 - lvz*(x10 - x36) + x35,             -lvy*x24 + lvy*x40 - lvz*(x17 - x42) + x41, lvx*x36 + lvy*x42 - lvz*(9*x23 - x30*z**3) + x22 + x39, 0, 0, 0,                                     0,  0,  0,  0,     x38,       x43, -x20 + x4, 0],\n",
      "[                                                      0,                                                      0,                                                      0, 0, 0, 0,                                     0, -1,  0,  0,       0,         0,         0, 0],\n",
      "[                                                      0,                                                      0,                                                      0, 0, 0, 0,                                     0,  0, -1,  0,       0,         0,         0, 0],\n",
      "[                                                      0,                                                      0,                                                      0, 0, 0, 0,                                     0,  0,  0, -1,       0,         0,         0, 0],\n",
      "[                                                      0,                                                      0,                                                      0, 0, 0, 0, -ix*lvx*x44 - iy*lvy*x44 - iz*lvz*x44,  0,  0,  0,     x14,       x19,       x21, 0]])])\n"
     ]
    }
   ],
   "source": [
    "dfsj = dfs.jacobian(fs)\n",
    "print(cse(dfsj))"
   ]
  },
  {
   "cell_type": "code",
   "execution_count": 10,
   "metadata": {},
   "outputs": [
    {
     "data": {
      "image/png": "[encoded data removed]",
      "text/latex": [
       "$$u^{2} \\left(- \\alpha + 1\\right) + u \\left(\\alpha - \\frac{c_{1} lv}{m} - c_{2} lm\\right)$$"
      ],
      "text/plain": [
       " 2              ⎛    c₁⋅lv        ⎞\n",
       "u ⋅(-α + 1) + u⋅⎜α - ───── - c₂⋅lm⎟\n",
       "                ⎝      m          ⎠"
      ]
     },
     "execution_count": 10,
     "metadata": {},
     "output_type": "execute_result"
    }
   ],
   "source": [
    "# Hamiltionian terms with throttle\n",
    "ueq = (1 - alpha)*u**2 + u*(alpha - lm*c2 - lvmag*c1/m)\n",
    "ueq"
   ]
  },
  {
   "cell_type": "code",
   "execution_count": 11,
   "metadata": {},
   "outputs": [
    {
     "data": {
      "image/png": "[encoded data removed]",
      "text/latex": [
       "$$\\alpha - \\frac{c_{1} lv}{m} - c_{2} lm + 2 u \\left(- \\alpha + 1\\right)$$"
      ],
      "text/plain": [
       "    c₁⋅lv                       \n",
       "α - ───── - c₂⋅lm + 2⋅u⋅(-α + 1)\n",
       "      m                         "
      ]
     },
     "execution_count": 11,
     "metadata": {},
     "output_type": "execute_result"
    }
   ],
   "source": [
    "ueqdiff = ueq.diff(u)\n",
    "ueqdiff"
   ]
  },
  {
   "cell_type": "code",
   "execution_count": 12,
   "metadata": {},
   "outputs": [
    {
     "data": {
      "image/png": "[encoded data removed]",
      "text/latex": [
       "$$\\frac{\\alpha m - c_{1} lv - c_{2} lm m}{2 m \\left(\\alpha - 1\\right)}$$"
      ],
      "text/plain": [
       "α⋅m - c₁⋅lv - c₂⋅lm⋅m\n",
       "─────────────────────\n",
       "     2⋅m⋅(α - 1)     "
      ]
     },
     "execution_count": 12,
     "metadata": {},
     "output_type": "execute_result"
    }
   ],
   "source": [
    "ustar = simplify(solve(ueqdiff, u))[0]\n",
    "ustar"
   ]
  },
  {
   "cell_type": "code",
   "execution_count": 14,
   "metadata": {},
   "outputs": [
    {
     "data": {
      "image/png": "[encoded data removed]",
      "text/latex": [
       "$$- \\frac{1}{2 m} \\left(- c_{1} lv - c_{2} lm m\\right)$$"
      ],
      "text/plain": [
       "-(-c₁⋅lv - c₂⋅lm⋅m) \n",
       "────────────────────\n",
       "        2⋅m         "
      ]
     },
     "execution_count": 14,
     "metadata": {},
     "output_type": "execute_result"
    }
   ],
   "source": [
    "ustar.subs(alpha, 0)"
   ]
  },
  {
   "cell_type": "code",
   "execution_count": null,
   "metadata": {
    "collapsed": true
   },
   "outputs": [],
   "source": [
    "L"
   ]
  },
  {
   "cell_type": "code",
   "execution_count": null,
   "metadata": {
    "collapsed": true
   },
   "outputs": [],
   "source": [
    "# switching function\n",
    "S = u - lm*c2*u - lvmag*c1/m*u\n",
    "S"
   ]
  },
  {
   "cell_type": "code",
   "execution_count": null,
   "metadata": {
    "collapsed": true
   },
   "outputs": [],
   "source": [
    "ueq"
   ]
  },
  {
   "cell_type": "code",
   "execution_count": null,
   "metadata": {
    "collapsed": true
   },
   "outputs": [],
   "source": [
    "ustar"
   ]
  },
  {
   "cell_type": "code",
   "execution_count": null,
   "metadata": {
    "collapsed": true
   },
   "outputs": [],
   "source": [
    "dfs"
   ]
  },
  {
   "cell_type": "code",
   "execution_count": null,
   "metadata": {
    "collapsed": true
   },
   "outputs": [],
   "source": []
  }
 ],
 "metadata": {
  "kernelspec": {
   "display_name": "Python 3",
   "language": "python",
   "name": "python3"
  },
  "language_info": {
   "codemirror_mode": {
    "name": "ipython",
    "version": 3
   },
   "file_extension": ".py",
   "mimetype": "text/x-python",
   "name": "python",
   "nbconvert_exporter": "python",
   "pygments_lexer": "ipython3",
   "version": "3.6.2"
  }
 },
 "nbformat": 4,
 "nbformat_minor": 2
}
