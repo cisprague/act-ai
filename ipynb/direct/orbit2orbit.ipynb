{
 "cells": [
  {
   "cell_type": "code",
   "execution_count": 1,
   "metadata": {},
   "outputs": [
    {
     "name": "stdout",
     "output_type": "stream",
     "text": [
      "Using matplotlib backend: Qt5Agg\n"
     ]
    }
   ],
   "source": [
    "import sys\n",
    "sys.path.append(\"../../py\")\n",
    "from direct.problems import orbit2orbit\n",
    "import pygmo as pg\n",
    "import pygmo_plugins_nonfree as pg7\n",
    "import matplotlib.pyplot as plt\n",
    "import numpy as np\n",
    "from numpy.linalg import norm\n",
    "%matplotlib"
   ]
  },
  {
   "cell_type": "code",
   "execution_count": 2,
   "metadata": {},
   "outputs": [
    {
     "name": "stdout",
     "output_type": "stream",
     "text": [
      "Problem name: <class 'direct.problems.orbit2orbit'>\n",
      "\tGlobal dimension:\t\t\t154\n",
      "\tInteger dimension:\t\t\t0\n",
      "\tFitness dimension:\t\t\t58\n",
      "\tNumber of objectives:\t\t\t1\n",
      "\tEquality constraints dimension:\t\t7\n",
      "\tInequality constraints dimension:\t50\n",
      "\tTolerances on constraints: [1e-06, 1e-06, 1e-06, 1e-06, 1e-06, ... ]\n",
      "\tLower bounds: [200, 100, 0, 0, -1, ... ]\n",
      "\tUpper bounds: [3000, 1000, 6.28319, 6.28319, 1, ... ]\n",
      "\n",
      "\tHas gradient: false\n",
      "\tUser implemented gradient sparsity: false\n",
      "\tHas hessians: false\n",
      "\tUser implemented hessians sparsity: false\n",
      "\n",
      "\tFitness evaluations: 0\n",
      "\n",
      "\tThread safety: none\n",
      "\n"
     ]
    }
   ],
   "source": [
    "udp = orbit2orbit(nseg=50, mass=1000, tmax=0.3, isp=2500)\n",
    "prob = pg.problem(udp)\n",
    "prob.c_tol = [1e-6]*(7 + udp.nseg)\n",
    "print(prob)"
   ]
  },
  {
   "cell_type": "code",
   "execution_count": 3,
   "metadata": {
    "collapsed": true
   },
   "outputs": [],
   "source": [
    "uda = pg7.snopt7(True, \"/usr/lib/libsnopt7_c.so\")\n",
    "uda.set_integer_option(\"Major iterations limit\", 4000)\n",
    "uda.set_integer_option(\"Iterations limit\", 20000)\n",
    "uda.set_numeric_option(\"Major optimality tolerance\", 1e-2)\n",
    "uda.set_numeric_option(\"Major feasibility tolerance\", 1e-9)\n",
    "algo = pg.algorithm(uda)\n",
    "#uda = pg.mbh(algo, 5, 0.5)\n",
    "#algo = pg.algorithm(uda)"
   ]
  },
  {
   "cell_type": "code",
   "execution_count": 4,
   "metadata": {
    "collapsed": true
   },
   "outputs": [],
   "source": [
    "pop = pg.population(prob, 1)"
   ]
  },
  {
   "cell_type": "code",
   "execution_count": 5,
   "metadata": {
    "collapsed": true
   },
   "outputs": [],
   "source": [
    "pop = algo.evolve(pop)"
   ]
  },
  {
   "cell_type": "code",
   "execution_count": 6,
   "metadata": {},
   "outputs": [
    {
     "name": "stdout",
     "output_type": "stream",
     "text": [
      "True\n"
     ]
    }
   ],
   "source": [
    "print(prob.feasibility_x(pop.champion_x))"
   ]
  },
  {
   "cell_type": "code",
   "execution_count": 16,
   "metadata": {},
   "outputs": [],
   "source": [
    "udp.plot_traj(pop.champion_x)"
   ]
  },
  {
   "cell_type": "code",
   "execution_count": 8,
   "metadata": {},
   "outputs": [],
   "source": [
    "traj = udp.state_control(pop.champion_x)"
   ]
  },
  {
   "cell_type": "code",
   "execution_count": 15,
   "metadata": {
    "collapsed": true
   },
   "outputs": [],
   "source": [
    "import matplotlib.pyplot as plt\n",
    "plt.figure()\n",
    "plt.plot(traj[:, -1])\n",
    "plt.show()"
   ]
  },
  {
   "cell_type": "code",
   "execution_count": 13,
   "metadata": {},
   "outputs": [
    {
     "data": {
      "text/plain": [
       "array([  3.05496769e+00,  -4.06840391e+10,   1.41367199e+11,\n",
       "         3.91520640e+05,  -2.91918338e+04,  -8.34618562e+03,\n",
       "         3.25264851e+00,   9.96770161e+02,  -9.98892552e-01,\n",
       "         2.30754436e-02,   4.10023642e-02,   1.00000000e+00])"
      ]
     },
     "execution_count": 13,
     "metadata": {},
     "output_type": "execute_result"
    }
   ],
   "source": [
    "traj[0]"
   ]
  },
  {
   "cell_type": "code",
   "execution_count": null,
   "metadata": {
    "collapsed": true
   },
   "outputs": [],
   "source": []
  }
 ],
 "metadata": {
  "kernelspec": {
   "display_name": "Python 3",
   "language": "python",
   "name": "python3"
  },
  "language_info": {
   "codemirror_mode": {
    "name": "ipython",
    "version": 3
   },
   "file_extension": ".py",
   "mimetype": "text/x-python",
   "name": "python",
   "nbconvert_exporter": "python",
   "pygments_lexer": "ipython3",
   "version": "3.6.2"
  }
 },
 "nbformat": 4,
 "nbformat_minor": 2
}
