{
 "cells": [
  {
   "cell_type": "code",
   "execution_count": 1,
   "metadata": {
    "collapsed": true
   },
   "outputs": [],
   "source": [
    "import sys\n",
    "sys.path.append(\"../py\")\n",
    "from constants import *"
   ]
  },
  {
   "cell_type": "code",
   "execution_count": 2,
   "metadata": {},
   "outputs": [
    {
     "name": "stdout",
     "output_type": "stream",
     "text": [
      "Sun's Gravitational Parametre = 1.32712440018e+20 [m^3/s^2]\n",
      "Earth's Gravitational Parametre = 398600441800000.0 [m^3/s^2]\n",
      "Earth's Sea Level Gravitational Acceleration = 9.80665 [m/s^2]\n",
      "Astronomical Unit = 149597870700.0 [m]\n",
      "Earth's Mass = 5.97219e+24 [kg]\n",
      "Earth's Heliocentric Velocity = 29784.6905 [m/s]\n"
     ]
    }
   ],
   "source": [
    "print(\"Sun's Gravitational Parametre = \" + str(MU_SUN) + \" [m^3/s^2]\")\n",
    "print(\"Earth's Gravitational Parametre = \" + str(MU_EARTH) + \" [m^3/s^2]\")\n",
    "print(\"Earth's Sea Level Gravitational Acceleration = \" + str(G_0) + \" [m/s^2]\")\n",
    "print(\"Astronomical Unit = \" + str(AU) + \" [m]\")\n",
    "print(\"Earth's Mass = \" + str(M_EARTH) + \" [kg]\")\n",
    "print(\"Earth's Heliocentric Velocity = \" + str(V_EARTH) + \" [m/s]\")"
   ]
  }
 ],
 "metadata": {
  "kernelspec": {
   "display_name": "Python 3",
   "language": "python",
   "name": "python3"
  },
  "language_info": {
   "codemirror_mode": {
    "name": "ipython",
    "version": 3
   },
   "file_extension": ".py",
   "mimetype": "text/x-python",
   "name": "python",
   "nbconvert_exporter": "python",
   "pygments_lexer": "ipython3",
   "version": "3.6.2"
  }
 },
 "nbformat": 4,
 "nbformat_minor": 2
}
