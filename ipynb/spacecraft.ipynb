{
 "cells": [
  {
   "cell_type": "code",
   "execution_count": 1,
   "metadata": {
    "collapsed": true
   },
   "outputs": [],
   "source": [
    "# resources\n",
    "import sys\n",
    "sys.path.append(\"../py\")\n",
    "from spacecraft import spacecraft"
   ]
  },
  {
   "cell_type": "code",
   "execution_count": 2,
   "metadata": {},
   "outputs": [],
   "source": [
    "# instantiate spacecraft\n",
    "sc = spacecraft(mass=1000, tmax=0.01, isp=2500)"
   ]
  },
  {
   "cell_type": "code",
   "execution_count": 3,
   "metadata": {},
   "outputs": [
    {
     "name": "stdout",
     "output_type": "stream",
     "text": [
      "Mass = 1000 [kg]\n",
      "Max Thrust = 0.01 [N]\n",
      "Specific Impulse = 2500 [s]\n"
     ]
    }
   ],
   "source": [
    "# print properties\n",
    "print(\"Mass = \" + str(sc.mass) + \" [kg]\")\n",
    "print(\"Max Thrust = \" + str(sc.tmax) + \" [N]\")\n",
    "print(\"Specific Impulse = \" + str(sc.isp) + \" [s]\")"
   ]
  }
 ],
 "metadata": {
  "kernelspec": {
   "display_name": "Python 3",
   "language": "python",
   "name": "python3"
  },
  "language_info": {
   "codemirror_mode": {
    "name": "ipython",
    "version": 3
   },
   "file_extension": ".py",
   "mimetype": "text/x-python",
   "name": "python",
   "nbconvert_exporter": "python",
   "pygments_lexer": "ipython3",
   "version": "3.6.2"
  }
 },
 "nbformat": 4,
 "nbformat_minor": 2
}
