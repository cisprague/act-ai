{
 "cells": [
  {
   "cell_type": "markdown",
   "metadata": {},
   "source": [
    "# Two Body Indirect Optimal Control"
   ]
  },
  {
   "cell_type": "code",
   "execution_count": 1,
   "metadata": {
    "collapsed": true
   },
   "outputs": [],
   "source": [
    "from sympy import *\n",
    "init_printing()"
   ]
  },
  {
   "cell_type": "markdown",
   "metadata": {},
   "source": [
    "## Dynamics\n"
   ]
  },
  {
   "cell_type": "code",
   "execution_count": 3,
   "metadata": {},
   "outputs": [],
   "source": [
    "# state\n",
    "x, y, z, vx, vy, vz, m = symbols('x y z v_x v_y v_z m')\n",
    "r = Matrix([x, y, z])\n",
    "v = Matrix([vx, vy, vz])\n",
    "s = Matrix([r, v, [m]])\n",
    "rmag = sqrt(r[0]**2 + r[1]**2 + r[2]**2)\n",
    "\n",
    "# costate\n",
    "lx, ly, lz, lvx, lvy, lvz, lm = symbols('\\lambda_x \\lambda_y \\lambda_z \\lambda_{v_x} \\lambda_{v_y} \\lambda_{v_z} \\lambda_{m}')\n",
    "lr = Matrix([lx, ly, lz])\n",
    "lv = Matrix([lvx, lvy, lvz])\n",
    "l = Matrix([lr, lv, [lm]])\n",
    "\n",
    "# full state\n",
    "fs = Matrix([s, l])\n",
    "\n",
    "# controls\n",
    "umag, ux, uy, uz = symbols('u u_x u_y u_z')\n",
    "u = umag*Matrix([ux, uy, uz])\n",
    "\n",
    "# parametres \n",
    "#(c1 = Tmax, c2 = Tmax/Isp/g0, eps = homotopy (MO=0, PO=1))\n",
    "c1, c2, mu, eps = symbols('c_1 c_2 \\mu \\epsilon')\n",
    "\n",
    "# dynamics\n",
    "ds = Matrix([\n",
    "    v, \n",
    "    u*c1/m - mu*r/rmag**3, \n",
    "    [-umag*c2]\n",
    "])"
   ]
  },
  {
   "cell_type": "markdown",
   "metadata": {},
   "source": [
    "## Indirect Optimal Control"
   ]
  },
  {
   "cell_type": "code",
   "execution_count": 4,
   "metadata": {},
   "outputs": [],
   "source": [
    "# homotopic cost Lagrangian\n",
    "L = c2*(umag - eps*umag*(1 - umag))\n",
    "\n",
    "# Hamiltonian\n",
    "H = l.dot(ds) + L\n",
    "\n",
    "# costate dynamics\n",
    "dl = -Matrix([H.diff(i) for i in s])"
   ]
  },
  {
   "cell_type": "code",
   "execution_count": 5,
   "metadata": {
    "collapsed": true
   },
   "outputs": [],
   "source": [
    "# differentiate Hamiltionian\n",
    "Hux = H.diff(ux)\n",
    "Huy = H.diff(uy)\n",
    "Huz = H.diff(uz)\n",
    "Hu = H.diff(umag)\n",
    "sys = [Hux, Huy, Huz, Hu]"
   ]
  },
  {
   "cell_type": "code",
   "execution_count": 6,
   "metadata": {},
   "outputs": [
    {
     "data": {
      "text/latex": [
       "$$- \\epsilon c_{2} u^{2} + \\lambda_x v_{x} + \\lambda_y v_{y} + \\lambda_z v_{z} - \\frac{\\lambda_{v_x} \\mu x}{\\left(x^{2} + y^{2} + z^{2}\\right)^{\\frac{3}{2}}} - \\frac{\\lambda_{v_y} \\mu y}{\\left(x^{2} + y^{2} + z^{2}\\right)^{\\frac{3}{2}}} - \\frac{\\lambda_{v_z} \\mu z}{\\left(x^{2} + y^{2} + z^{2}\\right)^{\\frac{3}{2}}}$$"
      ],
      "text/plain": [
       "               2                                                 \\lambda_{v_x}\n",
       "- \\epsilon⋅c₂⋅u  + \\lambdaₓ⋅vₓ + \\lambda_y⋅v_y + \\lambda_z⋅v_z - ─────────────\n",
       "                                                                              \n",
       "                                                                  ⎛ 2    2    \n",
       "                                                                  ⎝x  + y  + z\n",
       "\n",
       "⋅\\mu⋅x   \\lambda_{v_y}⋅\\mu⋅y   \\lambda_{v_z}⋅\\mu⋅z\n",
       "────── - ─────────────────── - ───────────────────\n",
       "  3/2                   3/2                   3/2 \n",
       "2⎞        ⎛ 2    2    2⎞        ⎛ 2    2    2⎞    \n",
       " ⎠        ⎝x  + y  + z ⎠        ⎝x  + y  + z ⎠    "
      ]
     },
     "execution_count": 6,
     "metadata": {},
     "output_type": "execute_result"
    }
   ],
   "source": [
    "# solve for optimal stearing direction\n",
    "uxs = solve(sys, ux)[ux]\n",
    "uys = solve(sys, uy)[uy]\n",
    "uzs = solve(sys, uz)[uz]\n",
    "us = Matrix([uxs, uys, uzs])\n",
    "Hs = H.subs([(ux, uxs), (uy, uys), (uz, uzs)])\n",
    "simplify(Hs) # the Hamiltonian with optimal stearing\n",
    "\n",
    "# how to find switching function?"
   ]
  },
  {
   "cell_type": "code",
   "execution_count": 7,
   "metadata": {},
   "outputs": [
    {
     "data": {
      "text/latex": [
       "$$- 2 \\epsilon c_{2} u$$"
      ],
      "text/plain": [
       "-2⋅\\epsilon⋅c₂⋅u"
      ]
     },
     "execution_count": 7,
     "metadata": {},
     "output_type": "execute_result"
    }
   ],
   "source": [
    "simplify(Hs.diff(umag))"
   ]
  },
  {
   "cell_type": "code",
   "execution_count": 9,
   "metadata": {},
   "outputs": [
    {
     "data": {
      "text/latex": [
       "$$\\left ( \\left [ \\left ( x_{0}, \\quad \\frac{c_{1} u}{m}\\right ), \\quad \\left ( x_{1}, \\quad \\frac{\\mu}{\\left(x^{2} + y^{2} + z^{2}\\right)^{\\frac{3}{2}}}\\right )\\right ], \\quad \\left [ \\left[\\begin{matrix}v_{x}\\\\v_{y}\\\\v_{z}\\\\u_{x} x_{0} - x x_{1}\\\\u_{y} x_{0} - x_{1} y\\\\u_{z} x_{0} - x_{1} z\\\\- c_{2} u\\end{matrix}\\right]\\right ]\\right )$$"
      ],
      "text/plain": [
       "⎛                                       ⎡⎡     vₓ      ⎤⎤⎞\n",
       "⎜                                       ⎢⎢             ⎥⎥⎟\n",
       "⎜                                       ⎢⎢     v_y     ⎥⎥⎟\n",
       "⎜                                       ⎢⎢             ⎥⎥⎟\n",
       "⎜                                       ⎢⎢     v_z     ⎥⎥⎟\n",
       "⎜⎡⎛    c₁⋅u⎞  ⎛           \\mu       ⎞⎤  ⎢⎢             ⎥⎥⎟\n",
       "⎜⎢⎜x₀, ────⎟, ⎜x₁, ─────────────────⎟⎥, ⎢⎢uₓ⋅x₀ - x⋅x₁ ⎥⎥⎟\n",
       "⎜⎢⎝     m  ⎠  ⎜                  3/2⎟⎥  ⎢⎢             ⎥⎥⎟\n",
       "⎜⎢            ⎜    ⎛ 2    2    2⎞   ⎟⎥  ⎢⎢u_y⋅x₀ - x₁⋅y⎥⎥⎟\n",
       "⎜⎣            ⎝    ⎝x  + y  + z ⎠   ⎠⎦  ⎢⎢             ⎥⎥⎟\n",
       "⎜                                       ⎢⎢u_z⋅x₀ - x₁⋅z⎥⎥⎟\n",
       "⎜                                       ⎢⎢             ⎥⎥⎟\n",
       "⎝                                       ⎣⎣    -c₂⋅u    ⎦⎦⎠"
      ]
     },
     "execution_count": 9,
     "metadata": {},
     "output_type": "execute_result"
    }
   ],
   "source": [
    "cse(ds)"
   ]
  },
  {
   "cell_type": "code",
   "execution_count": null,
   "metadata": {
    "collapsed": true
   },
   "outputs": [],
   "source": []
  }
 ],
 "metadata": {
  "kernelspec": {
   "display_name": "Python 3",
   "language": "python",
   "name": "python3"
  },
  "language_info": {
   "codemirror_mode": {
    "name": "ipython",
    "version": 3
   },
   "file_extension": ".py",
   "mimetype": "text/x-python",
   "name": "python",
   "nbconvert_exporter": "python",
   "pygments_lexer": "ipython3",
   "version": "3.6.2"
  }
 },
 "nbformat": 4,
 "nbformat_minor": 2
}
